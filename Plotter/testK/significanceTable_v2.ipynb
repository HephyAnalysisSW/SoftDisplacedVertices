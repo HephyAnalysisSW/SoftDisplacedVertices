{
 "cells": [
  {
   "cell_type": "code",
   "execution_count": 1,
   "id": "89e9211b-7e14-4ef8-a2d8-b12e255dca4e",
   "metadata": {},
   "outputs": [
    {
     "name": "stdout",
     "output_type": "stream",
     "text": [
      "Welcome to JupyROOT 6.28/00\n"
     ]
    }
   ],
   "source": [
    "import time\n",
    "\n",
    "import numpy as np\n",
    "import pandas as pd\n",
    "import matplotlib.pyplot as plt\n",
    "import seaborn as sns\n",
    "\n",
    "from uncertainties import ufloat\n",
    "from ctypes import c_double\n",
    "\n",
    "import ROOT\n",
    "import math\n",
    "ROOT.EnableImplicitMT()    # Tells ROOT to go parallel"
   ]
  },
  {
   "cell_type": "code",
   "execution_count": 42,
   "id": "f3d8316b",
   "metadata": {},
   "outputs": [],
   "source": [
    "import os\n",
    "\n",
    "unique_dir = \"SDVSecVtx_ParTScore\"\n",
    "\n",
    "# ------------------------------------------------\n",
    "sig_tag  = 'stop_M600_585_ct20_2018'\n",
    "\n",
    "\n",
    "\n",
    "histname = \"MET_pt_corr_vs_Max_ML_score_clone2\"\n",
    "histname = \"MET_pt_corr_vs_SP1_Max_ML_score\"\n",
    "tdir     = \"SP1_evt\"\n",
    "\n",
    "\n",
    "\n",
    "\n",
    "bkg_dir = \"/scratch-cbe/users/alikaan.gueven/AN_plots/ParT_hists/\" + unique_dir + \"/bkg\"\n",
    "sig_dir = \"/scratch-cbe/users/alikaan.gueven/AN_plots/ParT_hists/\" + unique_dir + \"/sig\"\n",
    "\n",
    "\n",
    "\n",
    "sig_file = ROOT.TFile(os.path.join(sig_dir, f\"{sig_tag}_hist.root\"))\n",
    "sig_dir  = getattr(sig_file, tdir)\n",
    "sig_hist = getattr(sig_dir, histname).Clone()\n",
    "\n",
    "\n",
    "bkg_file = ROOT.TFile(os.path.join(bkg_dir, f\"all_2018_hist.root\"))\n",
    "bkg_dir  = getattr(bkg_file, tdir)\n",
    "bkg_hist = getattr(bkg_dir, histname).Clone()"
   ]
  },
  {
   "cell_type": "code",
   "execution_count": 43,
   "id": "fbe744ad-772f-4393-aa99-5b170e9d70dd",
   "metadata": {},
   "outputs": [],
   "source": [
    "x_binwidth = sig_hist.GetXaxis().GetBinWidth(1)\n",
    "y_binwidth = sig_hist.GetYaxis().GetBinWidth(1)"
   ]
  },
  {
   "cell_type": "code",
   "execution_count": 44,
   "id": "450c7536",
   "metadata": {},
   "outputs": [
    {
     "name": "stdout",
     "output_type": "stream",
     "text": [
      "0.0 1000.0 50.0\n",
      "0.95 1.0 0.00010000000000000009\n"
     ]
    }
   ],
   "source": [
    "xax = sig_hist.GetXaxis()\n",
    "yax = sig_hist.GetYaxis()\n",
    "\n",
    "x_min = xax.GetBinLowEdge(1)\n",
    "x_max = xax.GetBinUpEdge(xax.GetLast())\n",
    "\n",
    "y_min = yax.GetBinLowEdge(1)\n",
    "y_max = yax.GetBinUpEdge(yax.GetLast())\n",
    "\n",
    "print(x_min, x_max, x_binwidth)\n",
    "print(y_min, y_max, y_binwidth)"
   ]
  },
  {
   "cell_type": "code",
   "execution_count": 45,
   "id": "84faf73b-a598-4e0b-9bfd-0928247d814f",
   "metadata": {},
   "outputs": [],
   "source": [
    "MET_boundaryList     = np.arange(200   + x_binwidth, x_max, x_binwidth)\n",
    "MLScore_boundaryList = np.arange(y_min + y_binwidth, y_max, y_binwidth)"
   ]
  },
  {
   "cell_type": "code",
   "execution_count": 46,
   "id": "b14d3ed6-db2a-4cca-b7ed-6853b942471e",
   "metadata": {},
   "outputs": [],
   "source": [
    "def sig(s,b,b_err):\n",
    "  eps = 5e-1\n",
    "  b     = max(b,     eps)\n",
    "  b_err = max(b_err, eps)\n",
    "  val = (2*((s+b)*np.log(((s+b)*(b+b_err*b_err))/(b*b+(s+b)*b_err*b_err)) -\n",
    "        (b*b/(b_err*b_err))*np.log(1+(b_err*b_err*s)/(b*(b+b_err*b_err)))))\n",
    "  return np.sqrt(max(0, val))"
   ]
  },
  {
   "cell_type": "code",
   "execution_count": 47,
   "id": "bc93bd57-8d16-402c-8d7e-a1238f08ce58",
   "metadata": {},
   "outputs": [],
   "source": [
    "significances_dir = '/scratch-cbe/users/alikaan.gueven/AN_plots/ParT_hists/'+ unique_dir + '/significances'\n",
    "os.makedirs(significances_dir, exist_ok=True)"
   ]
  },
  {
   "cell_type": "code",
   "execution_count": 48,
   "id": "9966b447",
   "metadata": {},
   "outputs": [
    {
     "data": {
      "text/plain": [
       "0.00010000000000000009"
      ]
     },
     "execution_count": 48,
     "metadata": {},
     "output_type": "execute_result"
    }
   ],
   "source": [
    "y_binwidth"
   ]
  },
  {
   "cell_type": "code",
   "execution_count": 49,
   "id": "dd7fd0c8",
   "metadata": {},
   "outputs": [
    {
     "data": {
      "text/plain": [
       "'/scratch-cbe/users/alikaan.gueven/AN_plots/ParT_hists/SDVSecVtx_ParTScore/significances'"
      ]
     },
     "execution_count": 49,
     "metadata": {},
     "output_type": "execute_result"
    }
   ],
   "source": [
    "significances_dir"
   ]
  },
  {
   "cell_type": "code",
   "execution_count": 53,
   "id": "92006fbb-5ebb-4fba-8c5b-d70f54600404",
   "metadata": {},
   "outputs": [
    {
     "name": "stdout",
     "output_type": "stream",
     "text": [
      "[250. 300. 350. 400. 450. 500. 550. 600. 650. 700. 750. 800. 850. 900.\n",
      " 950.]\n",
      "[0.9501 0.9502 0.9503 0.9504 0.9505 0.9506 0.9507 0.9508 0.9509 0.951\n",
      " 0.9511 0.9512 0.9513 0.9514 0.9515 0.9516 0.9517 0.9518 0.9519 0.952\n",
      " 0.9521 0.9522 0.9523 0.9524 0.9525 0.9526 0.9527 0.9528 0.9529 0.953\n",
      " 0.9531 0.9532 0.9533 0.9534 0.9535 0.9536 0.9537 0.9538 0.9539 0.954\n",
      " 0.9541 0.9542 0.9543 0.9544 0.9545 0.9546 0.9547 0.9548 0.9549 0.955\n",
      " 0.9551 0.9552 0.9553 0.9554 0.9555 0.9556 0.9557 0.9558 0.9559 0.956\n",
      " 0.9561 0.9562 0.9563 0.9564 0.9565 0.9566 0.9567 0.9568 0.9569 0.957\n",
      " 0.9571 0.9572 0.9573 0.9574 0.9575 0.9576 0.9577 0.9578 0.9579 0.958\n",
      " 0.9581 0.9582 0.9583 0.9584 0.9585 0.9586 0.9587 0.9588 0.9589 0.959\n",
      " 0.9591 0.9592 0.9593 0.9594 0.9595 0.9596 0.9597 0.9598 0.9599 0.96\n",
      " 0.9601 0.9602 0.9603 0.9604 0.9605 0.9606 0.9607 0.9608 0.9609 0.961\n",
      " 0.9611 0.9612 0.9613 0.9614 0.9615 0.9616 0.9617 0.9618 0.9619 0.962\n",
      " 0.9621 0.9622 0.9623 0.9624 0.9625 0.9626 0.9627 0.9628 0.9629 0.963\n",
      " 0.9631 0.9632 0.9633 0.9634 0.9635 0.9636 0.9637 0.9638 0.9639 0.964\n",
      " 0.9641 0.9642 0.9643 0.9644 0.9645 0.9646 0.9647 0.9648 0.9649 0.965\n",
      " 0.9651 0.9652 0.9653 0.9654 0.9655 0.9656 0.9657 0.9658 0.9659 0.966\n",
      " 0.9661 0.9662 0.9663 0.9664 0.9665 0.9666 0.9667 0.9668 0.9669 0.967\n",
      " 0.9671 0.9672 0.9673 0.9674 0.9675 0.9676 0.9677 0.9678 0.9679 0.968\n",
      " 0.9681 0.9682 0.9683 0.9684 0.9685 0.9686 0.9687 0.9688 0.9689 0.969\n",
      " 0.9691 0.9692 0.9693 0.9694 0.9695 0.9696 0.9697 0.9698 0.9699 0.97\n",
      " 0.9701 0.9702 0.9703 0.9704 0.9705 0.9706 0.9707 0.9708 0.9709 0.971\n",
      " 0.9711 0.9712 0.9713 0.9714 0.9715 0.9716 0.9717 0.9718 0.9719 0.972\n",
      " 0.9721 0.9722 0.9723 0.9724 0.9725 0.9726 0.9727 0.9728 0.9729 0.973\n",
      " 0.9731 0.9732 0.9733 0.9734 0.9735 0.9736 0.9737 0.9738 0.9739 0.974\n",
      " 0.9741 0.9742 0.9743 0.9744 0.9745 0.9746 0.9747 0.9748 0.9749 0.975\n",
      " 0.9751 0.9752 0.9753 0.9754 0.9755 0.9756 0.9757 0.9758 0.9759 0.976\n",
      " 0.9761 0.9762 0.9763 0.9764 0.9765 0.9766 0.9767 0.9768 0.9769 0.977\n",
      " 0.9771 0.9772 0.9773 0.9774 0.9775 0.9776 0.9777 0.9778 0.9779 0.978\n",
      " 0.9781 0.9782 0.9783 0.9784 0.9785 0.9786 0.9787 0.9788 0.9789 0.979\n",
      " 0.9791 0.9792 0.9793 0.9794 0.9795 0.9796 0.9797 0.9798 0.9799 0.98\n",
      " 0.9801 0.9802 0.9803 0.9804 0.9805 0.9806 0.9807 0.9808 0.9809 0.981\n",
      " 0.9811 0.9812 0.9813 0.9814 0.9815 0.9816 0.9817 0.9818 0.9819 0.982\n",
      " 0.9821 0.9822 0.9823 0.9824 0.9825 0.9826 0.9827 0.9828 0.9829 0.983\n",
      " 0.9831 0.9832 0.9833 0.9834 0.9835 0.9836 0.9837 0.9838 0.9839 0.984\n",
      " 0.9841 0.9842 0.9843 0.9844 0.9845 0.9846 0.9847 0.9848 0.9849 0.985\n",
      " 0.9851 0.9852 0.9853 0.9854 0.9855 0.9856 0.9857 0.9858 0.9859 0.986\n",
      " 0.9861 0.9862 0.9863 0.9864 0.9865 0.9866 0.9867 0.9868 0.9869 0.987\n",
      " 0.9871 0.9872 0.9873 0.9874 0.9875 0.9876 0.9877 0.9878 0.9879 0.988\n",
      " 0.9881 0.9882 0.9883 0.9884 0.9885 0.9886 0.9887 0.9888 0.9889 0.989\n",
      " 0.9891 0.9892 0.9893 0.9894 0.9895 0.9896 0.9897 0.9898 0.9899 0.99\n",
      " 0.9901 0.9902 0.9903 0.9904 0.9905 0.9906 0.9907 0.9908 0.9909 0.991\n",
      " 0.9911 0.9912 0.9913 0.9914 0.9915 0.9916 0.9917 0.9918 0.9919 0.992\n",
      " 0.9921 0.9922 0.9923 0.9924 0.9925 0.9926 0.9927 0.9928 0.9929 0.993\n",
      " 0.9931 0.9932 0.9933 0.9934 0.9935 0.9936 0.9937 0.9938 0.9939 0.994\n",
      " 0.9941 0.9942 0.9943 0.9944 0.9945 0.9946 0.9947 0.9948 0.9949 0.995\n",
      " 0.9951 0.9952 0.9953 0.9954 0.9955 0.9956 0.9957 0.9958 0.9959 0.996\n",
      " 0.9961 0.9962 0.9963 0.9964 0.9965 0.9966 0.9967 0.9968 0.9969 0.997\n",
      " 0.9971 0.9972 0.9973 0.9974 0.9975 0.9976 0.9977 0.9978 0.9979 0.998\n",
      " 0.9981 0.9982 0.9983 0.9984 0.9985 0.9986 0.9987 0.9988 0.9989 0.999\n",
      " 0.9991 0.9992 0.9993 0.9994 0.9995 0.9996 0.9997 0.9998 0.9999 1.    ]\n",
      "Table sig_SPRA saved to the store.\n",
      "Table sig_SPRB saved to the store.\n",
      "Table sig_SPRC saved to the store.\n",
      "Table sig_SPRD saved to the store.\n",
      "Table bkg_SPRA saved to the store.\n",
      "Table bkg_SPRB saved to the store.\n",
      "Table bkg_SPRC saved to the store.\n",
      "Table bkg_SPRD saved to the store.\n",
      "Table sig_SPRA_unc saved to the store.\n",
      "Table sig_SPRB_unc saved to the store.\n",
      "Table sig_SPRC_unc saved to the store.\n",
      "Table sig_SPRD_unc saved to the store.\n",
      "Table bkg_SPRA_unc saved to the store.\n",
      "Table bkg_SPRB_unc saved to the store.\n",
      "Table bkg_SPRC_unc saved to the store.\n",
      "Table bkg_SPRD_unc saved to the store.\n",
      "Table bkg_SPRA_pred saved to the store.\n",
      "Table bkg_SPRA_pred_unc saved to the store.\n",
      "Table Z_SPRA saved to the store.\n",
      "Table Z_SPRB saved to the store.\n",
      "Table Z_SPRC saved to the store.\n",
      "Table Z_SPRD saved to the store.\n",
      "Table Z_SPRA_pred saved to the store.\n"
     ]
    }
   ],
   "source": [
    "MET_step = MET_boundaryList[1] - MET_boundaryList[0]\n",
    "MLScore_step = MLScore_boundaryList[1] - MLScore_boundaryList[0]\n",
    "\n",
    "print(MET_boundaryList)\n",
    "print(MLScore_boundaryList)\n",
    "\n",
    "MLScore_min = bkg_hist.GetYaxis().FindBin(0.50)\n",
    "\n",
    "empty_df = pd.DataFrame(columns=np.arange(MET_boundaryList[0], MET_boundaryList[-1]+MET_step, MET_step),\n",
    "                        index=  np.arange(MLScore_boundaryList[0], MLScore_boundaryList[-1]+MLScore_step, MLScore_step),\n",
    "                        dtype= float)\n",
    "\n",
    "# Create empty tables\n",
    "tableNames = ['sig_SPRA', 'sig_SPRB', 'sig_SPRC', 'sig_SPRD',\n",
    "              'bkg_SPRA', 'bkg_SPRB', 'bkg_SPRC', 'bkg_SPRD',\n",
    "              'sig_SPRA_unc', 'sig_SPRB_unc', 'sig_SPRC_unc', 'sig_SPRD_unc',\n",
    "              'bkg_SPRA_unc', 'bkg_SPRB_unc', 'bkg_SPRC_unc', 'bkg_SPRD_unc',\n",
    "              'bkg_SPRA_pred', 'bkg_SPRA_pred_unc',\n",
    "              'Z_SPRA', 'Z_SPRB', 'Z_SPRC', 'Z_SPRD', 'Z_SPRA_pred'     # Z is the significance\n",
    "              ]\n",
    "\n",
    "tables = dict()\n",
    "for name in tableNames:\n",
    "    tables[name] = empty_df.copy()\n",
    "\n",
    "\n",
    "\n",
    "store = pd.HDFStore(os.path.join(significances_dir, 'dataframes_ML.h5'))\n",
    "\n",
    "bkgScale = 1 # (100. / 60.)\n",
    "sigScale = 1 # (100. / 60.) * (6.83 / 205.)\n",
    "\n",
    "\n",
    "    \n",
    "for MET_boundary in MET_boundaryList:\n",
    "    for MLScore_boundary in MLScore_boundaryList:\n",
    "\n",
    "        MET_lo    = 0\n",
    "        MET_up    = bkg_hist.GetNbinsX()+1\n",
    "        MET_bound = bkg_hist.GetXaxis().FindBin(MET_boundary)\n",
    "\n",
    "        MLScore_lo    = 0\n",
    "        MLScore_up    = bkg_hist.GetNbinsY()+1\n",
    "        MLScore_bound = bkg_hist.GetYaxis().FindBin(MLScore_boundary)\n",
    "\n",
    "        x = c_double(0.0)\n",
    "        SPRA = ufloat(bkg_hist.IntegralAndError(MET_bound, MET_up, MLScore_bound, MLScore_up,       x), x.value) * bkgScale\n",
    "        SPRB = ufloat(bkg_hist.IntegralAndError(MET_lo, MET_bound-1, MLScore_bound, MLScore_up,     x), x.value) * bkgScale\n",
    "        SPRC = ufloat(bkg_hist.IntegralAndError(MET_bound, MET_up, MLScore_min, MLScore_bound-1,     x), x.value) * bkgScale\n",
    "        SPRD = ufloat(bkg_hist.IntegralAndError(MET_lo, MET_bound-1, MLScore_min, MLScore_bound-1,   x), x.value) * bkgScale\n",
    "\n",
    "        eps = 5e-1\n",
    "\n",
    "        tables['bkg_SPRA'].loc[MLScore_boundary, MET_boundary] = max(eps, SPRA.n) # max: in case there are negative bins\n",
    "        tables['bkg_SPRB'].loc[MLScore_boundary, MET_boundary] = max(eps, SPRB.n)\n",
    "        tables['bkg_SPRC'].loc[MLScore_boundary, MET_boundary] = max(eps, SPRC.n)\n",
    "        tables['bkg_SPRD'].loc[MLScore_boundary, MET_boundary] = max(eps, SPRD.n)\n",
    "\n",
    "        tables['bkg_SPRA_unc'].loc[MLScore_boundary, MET_boundary] = max(eps, SPRA.s)\n",
    "        tables['bkg_SPRB_unc'].loc[MLScore_boundary, MET_boundary] = max(eps, SPRB.s)\n",
    "        tables['bkg_SPRC_unc'].loc[MLScore_boundary, MET_boundary] = max(eps, SPRC.s)\n",
    "        tables['bkg_SPRD_unc'].loc[MLScore_boundary, MET_boundary] = max(eps, SPRD.s)\n",
    "\n",
    "\n",
    "        bkg_SPRA_pred = (SPRC / SPRD) * SPRB if SPRD != 0 else ufloat(0, 0)\n",
    "        tables['bkg_SPRA_pred'].loc[MLScore_boundary, MET_boundary] =     max(eps, bkg_SPRA_pred.n)\n",
    "        tables['bkg_SPRA_pred_unc'].loc[MLScore_boundary, MET_boundary] = max(eps, bkg_SPRA_pred.s)\n",
    " \n",
    "\n",
    "        ### SIGNAL PART\n",
    "\n",
    "        x = c_double(0.0)\n",
    "        SPRA = ufloat(sig_hist.IntegralAndError(MET_bound, MET_up, MLScore_bound, MLScore_up,       x), x.value) * sigScale\n",
    "        SPRB = ufloat(sig_hist.IntegralAndError(MET_lo, MET_bound-1, MLScore_bound, MLScore_up,     x), x.value) * sigScale\n",
    "        SPRC = ufloat(sig_hist.IntegralAndError(MET_bound, MET_up, MLScore_lo, MLScore_bound-1,     x), x.value) * sigScale\n",
    "        SPRD = ufloat(sig_hist.IntegralAndError(MET_lo, MET_bound-1, MLScore_lo, MLScore_bound-1,   x), x.value) * sigScale\n",
    "\n",
    "\n",
    "        tables['sig_SPRA'].loc[MLScore_boundary, MET_boundary] = SPRA.n\n",
    "        tables['sig_SPRB'].loc[MLScore_boundary, MET_boundary] = SPRB.n\n",
    "        tables['sig_SPRC'].loc[MLScore_boundary, MET_boundary] = SPRC.n\n",
    "        tables['sig_SPRD'].loc[MLScore_boundary, MET_boundary] = SPRD.n\n",
    "\n",
    "        tables['sig_SPRA_unc'].loc[MLScore_boundary, MET_boundary] = SPRA.s\n",
    "        tables['sig_SPRB_unc'].loc[MLScore_boundary, MET_boundary] = SPRB.s\n",
    "        tables['sig_SPRC_unc'].loc[MLScore_boundary, MET_boundary] = SPRC.s\n",
    "        tables['sig_SPRD_unc'].loc[MLScore_boundary, MET_boundary] = SPRD.s\n",
    "\n",
    "        Z_SPRA      = ROOT.RooStats.AsimovSignificance(tables['sig_SPRA'].loc[MLScore_boundary, MET_boundary],\n",
    "                                                       tables['bkg_SPRA'].loc[MLScore_boundary, MET_boundary],\n",
    "                                                       tables['bkg_SPRA_unc'].loc[MLScore_boundary, MET_boundary])\n",
    "        Z_SPRB      = ROOT.RooStats.AsimovSignificance(tables['sig_SPRB'].loc[MLScore_boundary, MET_boundary],\n",
    "                                                       tables['bkg_SPRB'].loc[MLScore_boundary, MET_boundary],\n",
    "                                                       tables['bkg_SPRB_unc'].loc[MLScore_boundary, MET_boundary])\n",
    "        Z_SPRC      = ROOT.RooStats.AsimovSignificance(tables['sig_SPRC'].loc[MLScore_boundary, MET_boundary],\n",
    "                                                       tables['bkg_SPRC'].loc[MLScore_boundary, MET_boundary],\n",
    "                                                       tables['bkg_SPRC_unc'].loc[MLScore_boundary, MET_boundary])\n",
    "        Z_SPRD      = ROOT.RooStats.AsimovSignificance(tables['sig_SPRD'].loc[MLScore_boundary, MET_boundary],\n",
    "                                                       tables['bkg_SPRD'].loc[MLScore_boundary, MET_boundary],\n",
    "                                                       tables['bkg_SPRD_unc'].loc[MLScore_boundary, MET_boundary])\n",
    "        Z_SPRA_pred = ROOT.RooStats.AsimovSignificance(tables['sig_SPRA'].loc[MLScore_boundary, MET_boundary],\n",
    "                                                       tables['bkg_SPRA_pred'].loc[MLScore_boundary, MET_boundary],\n",
    "                                                       tables['bkg_SPRA_pred_unc'].loc[MLScore_boundary, MET_boundary])\n",
    "        \n",
    "        tables['Z_SPRA'].loc[MLScore_boundary, MET_boundary]      = Z_SPRA\n",
    "        tables['Z_SPRB'].loc[MLScore_boundary, MET_boundary]      = Z_SPRB\n",
    "        tables['Z_SPRC'].loc[MLScore_boundary, MET_boundary]      = Z_SPRC\n",
    "        tables['Z_SPRD'].loc[MLScore_boundary, MET_boundary]      = Z_SPRD\n",
    "        tables['Z_SPRA_pred'].loc[MLScore_boundary, MET_boundary] = Z_SPRA_pred\n",
    "\n",
    "\n",
    "\n",
    "# Save the tables to the store.\n",
    "# ----------------------------------------------------------------\n",
    "\n",
    "for tableName in tableNames:\n",
    "    store[f\"{sig_tag}_{tableName}\"] = tables[tableName]\n",
    "    print(f\"Table {tableName} saved to the store.\")"
   ]
  },
  {
   "cell_type": "code",
   "execution_count": 54,
   "id": "889af04f",
   "metadata": {},
   "outputs": [],
   "source": [
    "# store.keys()\n",
    "# store = pd.HDFStore(os.path.join(significances_dir, 'dataframes.h5'), 'r')\n",
    "# store.close()"
   ]
  },
  {
   "cell_type": "code",
   "execution_count": 55,
   "id": "c824130e",
   "metadata": {},
   "outputs": [
    {
     "data": {
      "image/png": "[encoded data removed]",
      "text/plain": [
       "<Figure size 1200x700 with 8 Axes>"
      ]
     },
     "metadata": {},
     "output_type": "display_data"
    }
   ],
   "source": [
    "fig, axs = plt.subplots(2, 2, figsize=(12, 7))\n",
    "tag=sig_tag\n",
    "\n",
    "ylabel = 'Max_ML Score Bound'\n",
    "xlabel = 'MET_pt Bound'\n",
    "\n",
    "plot_lowerBound = 0.995 # y_min\n",
    "\n",
    "# Observed significance plot\n",
    "sns.heatmap(store[tag + '_Z_SPRA'][plot_lowerBound:], ax=axs[0,0])\n",
    "axs[0,0].set(xlabel=xlabel, ylabel=ylabel, title='Observed significance\\n' + tag)\n",
    "axs[0,0].set_yticklabels([*map(lambda x: round(float(x.get_text()), 4), axs[0,0].get_yticklabels())])\n",
    "axs[0,0].invert_yaxis()\n",
    "\n",
    "# Predicted significance plot\n",
    "sns.heatmap(store[tag + '_Z_SPRA_pred'][plot_lowerBound:], ax=axs[0,1])\n",
    "axs[0,1].set(xlabel=xlabel, ylabel=ylabel, title='Predicted significance\\n' + 'all_bkg_2018')\n",
    "axs[0,1].set_yticklabels([*map(lambda x: round(float(x.get_text()), 4), axs[0,1].get_yticklabels())])\n",
    "axs[0,1].invert_yaxis()\n",
    "\n",
    "# Signal plot\n",
    "sns.heatmap(store[tag + '_sig_SPRA'][plot_lowerBound:], cmap='Oranges_r', ax=axs[1,0])\n",
    "axs[1,0].set(xlabel=xlabel, ylabel=ylabel, title='Number of sig Events\\n' + tag)\n",
    "axs[1,0].set_yticklabels([*map(lambda x: round(float(x.get_text()), 4), axs[1,0].get_yticklabels())])\n",
    "axs[1,0].invert_yaxis()\n",
    "\n",
    "# Background plot\n",
    "sns.heatmap(store[tag + '_bkg_SPRA'][plot_lowerBound:], cmap='Blues_r', ax=axs[1,1])\n",
    "axs[1,1].set(xlabel=xlabel, ylabel=ylabel, title='Number of bkg Events\\n' + 'all_bkg_2018')\n",
    "axs[1,1].set_yticklabels([*map(lambda x: round(float(x.get_text()), 4), axs[1,1].get_yticklabels())])\n",
    "axs[1,1].invert_yaxis()\n",
    "\n",
    "fig.tight_layout()\n",
    "fig.show()\n"
   ]
  },
  {
   "cell_type": "code",
   "execution_count": 39,
   "id": "03d57079",
   "metadata": {},
   "outputs": [
    {
     "name": "stdout",
     "output_type": "stream",
     "text": [
      "1.0\n",
      "400.0\n"
     ]
    }
   ],
   "source": [
    "print(round(store[sig_tag + \"_bkg_SPRB\"].index[-1], 6))\n",
    "print(round(store[sig_tag + \"_bkg_SPRB\"].columns[3], 0))"
   ]
  },
  {
   "cell_type": "code",
   "execution_count": 40,
   "id": "bdadf286",
   "metadata": {},
   "outputs": [
    {
     "data": {
      "text/html": [
       "<div>\n",
       "<style scoped>\n",
       "    .dataframe tbody tr th:only-of-type {\n",
       "        vertical-align: middle;\n",
       "    }\n",
       "\n",
       "    .dataframe tbody tr th {\n",
       "        vertical-align: top;\n",
       "    }\n",
       "\n",
       "    .dataframe thead th {\n",
       "        text-align: right;\n",
       "    }\n",
       "</style>\n",
       "<table border=\"1\" class=\"dataframe\">\n",
       "  <thead>\n",
       "    <tr style=\"text-align: right;\">\n",
       "      <th></th>\n",
       "      <th>250.0</th>\n",
       "      <th>300.0</th>\n",
       "      <th>350.0</th>\n",
       "      <th>400.0</th>\n",
       "      <th>450.0</th>\n",
       "    </tr>\n",
       "  </thead>\n",
       "  <tbody>\n",
       "    <tr>\n",
       "      <th>0.9991</th>\n",
       "      <td>2.251967</td>\n",
       "      <td>2.248273</td>\n",
       "      <td>2.358847</td>\n",
       "      <td>2.584172</td>\n",
       "      <td>2.093402</td>\n",
       "    </tr>\n",
       "    <tr>\n",
       "      <th>0.9992</th>\n",
       "      <td>2.396072</td>\n",
       "      <td>2.377766</td>\n",
       "      <td>2.616129</td>\n",
       "      <td>2.468251</td>\n",
       "      <td>1.996291</td>\n",
       "    </tr>\n",
       "    <tr>\n",
       "      <th>0.9993</th>\n",
       "      <td>2.498369</td>\n",
       "      <td>2.496633</td>\n",
       "      <td>2.885505</td>\n",
       "      <td>2.827767</td>\n",
       "      <td>2.352038</td>\n",
       "    </tr>\n",
       "    <tr>\n",
       "      <th>0.9994</th>\n",
       "      <td>2.563554</td>\n",
       "      <td>2.564731</td>\n",
       "      <td>2.658907</td>\n",
       "      <td>2.631246</td>\n",
       "      <td>2.178834</td>\n",
       "    </tr>\n",
       "    <tr>\n",
       "      <th>0.9995</th>\n",
       "      <td>2.428701</td>\n",
       "      <td>2.923958</td>\n",
       "      <td>2.873030</td>\n",
       "      <td>2.385870</td>\n",
       "      <td>1.973153</td>\n",
       "    </tr>\n",
       "    <tr>\n",
       "      <th>0.9996</th>\n",
       "      <td>2.009180</td>\n",
       "      <td>2.455386</td>\n",
       "      <td>2.447137</td>\n",
       "      <td>2.025664</td>\n",
       "      <td>1.669822</td>\n",
       "    </tr>\n",
       "    <tr>\n",
       "      <th>0.9997</th>\n",
       "      <td>1.796135</td>\n",
       "      <td>2.066270</td>\n",
       "      <td>1.690499</td>\n",
       "      <td>1.368592</td>\n",
       "      <td>1.100158</td>\n",
       "    </tr>\n",
       "    <tr>\n",
       "      <th>0.9998</th>\n",
       "      <td>0.343160</td>\n",
       "      <td>0.262500</td>\n",
       "      <td>0.217354</td>\n",
       "      <td>0.160269</td>\n",
       "      <td>0.141193</td>\n",
       "    </tr>\n",
       "    <tr>\n",
       "      <th>0.9999</th>\n",
       "      <td>0.000000</td>\n",
       "      <td>0.000000</td>\n",
       "      <td>0.000000</td>\n",
       "      <td>0.000000</td>\n",
       "      <td>0.000000</td>\n",
       "    </tr>\n",
       "    <tr>\n",
       "      <th>1.0000</th>\n",
       "      <td>0.000000</td>\n",
       "      <td>0.000000</td>\n",
       "      <td>0.000000</td>\n",
       "      <td>0.000000</td>\n",
       "      <td>0.000000</td>\n",
       "    </tr>\n",
       "  </tbody>\n",
       "</table>\n",
       "</div>"
      ],
      "text/plain": [
       "           250.0     300.0     350.0     400.0     450.0\n",
       "0.9991  2.251967  2.248273  2.358847  2.584172  2.093402\n",
       "0.9992  2.396072  2.377766  2.616129  2.468251  1.996291\n",
       "0.9993  2.498369  2.496633  2.885505  2.827767  2.352038\n",
       "0.9994  2.563554  2.564731  2.658907  2.631246  2.178834\n",
       "0.9995  2.428701  2.923958  2.873030  2.385870  1.973153\n",
       "0.9996  2.009180  2.455386  2.447137  2.025664  1.669822\n",
       "0.9997  1.796135  2.066270  1.690499  1.368592  1.100158\n",
       "0.9998  0.343160  0.262500  0.217354  0.160269  0.141193\n",
       "0.9999  0.000000  0.000000  0.000000  0.000000  0.000000\n",
       "1.0000  0.000000  0.000000  0.000000  0.000000  0.000000"
      ]
     },
     "execution_count": 40,
     "metadata": {},
     "output_type": "execute_result"
    }
   ],
   "source": [
    "store[sig_tag + '_Z_SPRA'].loc[0.999:, :450]"
   ]
  },
  {
   "cell_type": "code",
   "execution_count": 41,
   "id": "22ee2a48",
   "metadata": {},
   "outputs": [
    {
     "data": {
      "text/plain": [
       "0.0"
      ]
     },
     "execution_count": 41,
     "metadata": {},
     "output_type": "execute_result"
    }
   ],
   "source": [
    "store[sig_tag + '_Z_SPRA'].iloc[-2,3]"
   ]
  },
  {
   "cell_type": "code",
   "execution_count": 24,
   "id": "4957d4c3",
   "metadata": {},
   "outputs": [
    {
     "name": "stdout",
     "output_type": "stream",
     "text": [
      "SPRB: 75.7265844695817 +/- 11.04753814938583\n",
      "SPRC: 5645.954460377956 +/- 59.421774212011265\n",
      "SPRD: 122403.78773063312 +/- 780.8326371959705\n"
     ]
    }
   ],
   "source": [
    "# print(f'SPRA: {store[sig_tag + \"_bkg_SPRA\"].iloc[-8,3]} +/- {store[sig_tag + \"_bkg_SPRA_unc\"].iloc[-8,3]}')\n",
    "print(f'SPRB: {store[sig_tag + \"_bkg_SPRB\"].iloc[-2,3]} +/- {store[sig_tag + \"_bkg_SPRB_unc\"].iloc[-2,3]}')\n",
    "print(f'SPRC: {store[sig_tag + \"_bkg_SPRC\"].iloc[-2,3]} +/- {store[sig_tag + \"_bkg_SPRC_unc\"].iloc[-2,3]}')\n",
    "print(f'SPRD: {store[sig_tag + \"_bkg_SPRD\"].iloc[-2,3]} +/- {store[sig_tag + \"_bkg_SPRD_unc\"].iloc[-2,3]}')\n"
   ]
  },
  {
   "cell_type": "code",
   "execution_count": 132,
   "id": "9d59c379",
   "metadata": {},
   "outputs": [
    {
     "name": "stdout",
     "output_type": "stream",
     "text": [
      "f_B: 0.50+/-0.11\n",
      "f_C: 0.516+/-0.008\n",
      "f_D: 0.459+/-0.005\n"
     ]
    }
   ],
   "source": [
    "f_B = ufloat(64.95118090785805, 10.24168017233881) / ufloat(129.74137883499245, 18.46953400253708)\n",
    "f_C = ufloat(4972.575722054323, 63.20730017273657) / ufloat(9642.685986809784, 100.02463163394061)\n",
    "f_D = ufloat(95650.71685582052, 838.9132564909049) / ufloat(208527.3141139648, 1311.1127886045672)\n",
    "\n",
    "print(\"f_B:\", f_B)\n",
    "print(\"f_C:\", f_C)\n",
    "print(\"f_D:\", f_D)"
   ]
  },
  {
   "cell_type": "code",
   "execution_count": 135,
   "id": "dda9cd64",
   "metadata": {},
   "outputs": [
    {
     "data": {
      "text/plain": [
       "73.02055892221767+/-18.728064863359897"
      ]
     },
     "execution_count": 135,
     "metadata": {},
     "output_type": "execute_result"
    }
   ],
   "source": [
    "(f_C/f_D) * f_B * ufloat(129.74137883499245, 18.46953400253708)"
   ]
  },
  {
   "cell_type": "code",
   "execution_count": 45,
   "id": "5a1dcf02",
   "metadata": {},
   "outputs": [
    {
     "data": {
      "text/html": [
       "<div>\n",
       "<style scoped>\n",
       "    .dataframe tbody tr th:only-of-type {\n",
       "        vertical-align: middle;\n",
       "    }\n",
       "\n",
       "    .dataframe tbody tr th {\n",
       "        vertical-align: top;\n",
       "    }\n",
       "\n",
       "    .dataframe thead th {\n",
       "        text-align: right;\n",
       "    }\n",
       "</style>\n",
       "<table border=\"1\" class=\"dataframe\">\n",
       "  <thead>\n",
       "    <tr style=\"text-align: right;\">\n",
       "      <th></th>\n",
       "      <th>250.0</th>\n",
       "      <th>300.0</th>\n",
       "      <th>350.0</th>\n",
       "      <th>400.0</th>\n",
       "      <th>450.0</th>\n",
       "    </tr>\n",
       "  </thead>\n",
       "  <tbody>\n",
       "    <tr>\n",
       "      <th>0.9991</th>\n",
       "      <td>3.613198</td>\n",
       "      <td>7.012396</td>\n",
       "      <td>9.729498</td>\n",
       "      <td>11.870316</td>\n",
       "      <td>13.441857</td>\n",
       "    </tr>\n",
       "    <tr>\n",
       "      <th>0.9992</th>\n",
       "      <td>3.430240</td>\n",
       "      <td>6.647844</td>\n",
       "      <td>9.205820</td>\n",
       "      <td>11.239286</td>\n",
       "      <td>12.717320</td>\n",
       "    </tr>\n",
       "    <tr>\n",
       "      <th>0.9993</th>\n",
       "      <td>3.153858</td>\n",
       "      <td>6.106644</td>\n",
       "      <td>8.487057</td>\n",
       "      <td>10.344897</td>\n",
       "      <td>11.692171</td>\n",
       "    </tr>\n",
       "    <tr>\n",
       "      <th>0.9994</th>\n",
       "      <td>2.807500</td>\n",
       "      <td>5.466843</td>\n",
       "      <td>7.638892</td>\n",
       "      <td>9.292307</td>\n",
       "      <td>10.506040</td>\n",
       "    </tr>\n",
       "    <tr>\n",
       "      <th>0.9995</th>\n",
       "      <td>2.460162</td>\n",
       "      <td>4.685567</td>\n",
       "      <td>6.579326</td>\n",
       "      <td>7.992253</td>\n",
       "      <td>9.021895</td>\n",
       "    </tr>\n",
       "    <tr>\n",
       "      <th>0.9996</th>\n",
       "      <td>1.860485</td>\n",
       "      <td>3.607206</td>\n",
       "      <td>5.074650</td>\n",
       "      <td>6.163022</td>\n",
       "      <td>6.950905</td>\n",
       "    </tr>\n",
       "    <tr>\n",
       "      <th>0.9997</th>\n",
       "      <td>1.088727</td>\n",
       "      <td>2.047721</td>\n",
       "      <td>2.895871</td>\n",
       "      <td>3.543033</td>\n",
       "      <td>4.010537</td>\n",
       "    </tr>\n",
       "    <tr>\n",
       "      <th>0.9998</th>\n",
       "      <td>0.113476</td>\n",
       "      <td>0.199834</td>\n",
       "      <td>0.246228</td>\n",
       "      <td>0.306457</td>\n",
       "      <td>0.324906</td>\n",
       "    </tr>\n",
       "    <tr>\n",
       "      <th>0.9999</th>\n",
       "      <td>0.000000</td>\n",
       "      <td>0.000000</td>\n",
       "      <td>0.000000</td>\n",
       "      <td>0.000000</td>\n",
       "      <td>0.000000</td>\n",
       "    </tr>\n",
       "    <tr>\n",
       "      <th>1.0000</th>\n",
       "      <td>0.000000</td>\n",
       "      <td>0.000000</td>\n",
       "      <td>0.000000</td>\n",
       "      <td>0.000000</td>\n",
       "      <td>0.000000</td>\n",
       "    </tr>\n",
       "  </tbody>\n",
       "</table>\n",
       "</div>"
      ],
      "text/plain": [
       "           250.0     300.0     350.0      400.0      450.0\n",
       "0.9991  3.613198  7.012396  9.729498  11.870316  13.441857\n",
       "0.9992  3.430240  6.647844  9.205820  11.239286  12.717320\n",
       "0.9993  3.153858  6.106644  8.487057  10.344897  11.692171\n",
       "0.9994  2.807500  5.466843  7.638892   9.292307  10.506040\n",
       "0.9995  2.460162  4.685567  6.579326   7.992253   9.021895\n",
       "0.9996  1.860485  3.607206  5.074650   6.163022   6.950905\n",
       "0.9997  1.088727  2.047721  2.895871   3.543033   4.010537\n",
       "0.9998  0.113476  0.199834  0.246228   0.306457   0.324906\n",
       "0.9999  0.000000  0.000000  0.000000   0.000000   0.000000\n",
       "1.0000  0.000000  0.000000  0.000000   0.000000   0.000000"
      ]
     },
     "execution_count": 45,
     "metadata": {},
     "output_type": "execute_result"
    }
   ],
   "source": [
    "store[tag + '_sig_SPRB'].loc[0.999:, :450]"
   ]
  },
  {
   "cell_type": "code",
   "execution_count": 15,
   "id": "52230623",
   "metadata": {},
   "outputs": [
    {
     "data": {
      "text/html": [
       "<div>\n",
       "<style scoped>\n",
       "    .dataframe tbody tr th:only-of-type {\n",
       "        vertical-align: middle;\n",
       "    }\n",
       "\n",
       "    .dataframe tbody tr th {\n",
       "        vertical-align: top;\n",
       "    }\n",
       "\n",
       "    .dataframe thead th {\n",
       "        text-align: right;\n",
       "    }\n",
       "</style>\n",
       "<table border=\"1\" class=\"dataframe\">\n",
       "  <thead>\n",
       "    <tr style=\"text-align: right;\">\n",
       "      <th></th>\n",
       "      <th>250.0</th>\n",
       "      <th>300.0</th>\n",
       "      <th>350.0</th>\n",
       "      <th>400.0</th>\n",
       "      <th>450.0</th>\n",
       "    </tr>\n",
       "  </thead>\n",
       "  <tbody>\n",
       "    <tr>\n",
       "      <th>0.9991</th>\n",
       "      <td>15.328985</td>\n",
       "      <td>10.383760</td>\n",
       "      <td>4.543043</td>\n",
       "      <td>2.194217</td>\n",
       "      <td>1.638586</td>\n",
       "    </tr>\n",
       "    <tr>\n",
       "      <th>0.9992</th>\n",
       "      <td>11.188561</td>\n",
       "      <td>7.580735</td>\n",
       "      <td>2.873501</td>\n",
       "      <td>1.691053</td>\n",
       "      <td>1.544584</td>\n",
       "    </tr>\n",
       "    <tr>\n",
       "      <th>0.9993</th>\n",
       "      <td>8.798071</td>\n",
       "      <td>5.377026</td>\n",
       "      <td>1.658631</td>\n",
       "      <td>0.500000</td>\n",
       "      <td>0.500000</td>\n",
       "    </tr>\n",
       "    <tr>\n",
       "      <th>0.9994</th>\n",
       "      <td>5.368376</td>\n",
       "      <td>3.704655</td>\n",
       "      <td>1.338651</td>\n",
       "      <td>0.500000</td>\n",
       "      <td>0.500000</td>\n",
       "    </tr>\n",
       "    <tr>\n",
       "      <th>0.9995</th>\n",
       "      <td>2.607061</td>\n",
       "      <td>1.562292</td>\n",
       "      <td>0.500000</td>\n",
       "      <td>0.500000</td>\n",
       "      <td>0.500000</td>\n",
       "    </tr>\n",
       "    <tr>\n",
       "      <th>0.9996</th>\n",
       "      <td>1.198395</td>\n",
       "      <td>1.055269</td>\n",
       "      <td>0.500000</td>\n",
       "      <td>0.500000</td>\n",
       "      <td>0.500000</td>\n",
       "    </tr>\n",
       "    <tr>\n",
       "      <th>0.9997</th>\n",
       "      <td>0.500000</td>\n",
       "      <td>0.500000</td>\n",
       "      <td>0.500000</td>\n",
       "      <td>0.500000</td>\n",
       "      <td>0.500000</td>\n",
       "    </tr>\n",
       "    <tr>\n",
       "      <th>0.9998</th>\n",
       "      <td>0.500000</td>\n",
       "      <td>0.500000</td>\n",
       "      <td>0.500000</td>\n",
       "      <td>0.500000</td>\n",
       "      <td>0.500000</td>\n",
       "    </tr>\n",
       "    <tr>\n",
       "      <th>0.9999</th>\n",
       "      <td>0.500000</td>\n",
       "      <td>0.500000</td>\n",
       "      <td>0.500000</td>\n",
       "      <td>0.500000</td>\n",
       "      <td>0.500000</td>\n",
       "    </tr>\n",
       "    <tr>\n",
       "      <th>1.0000</th>\n",
       "      <td>0.500000</td>\n",
       "      <td>0.500000</td>\n",
       "      <td>0.500000</td>\n",
       "      <td>0.500000</td>\n",
       "      <td>0.500000</td>\n",
       "    </tr>\n",
       "  </tbody>\n",
       "</table>\n",
       "</div>"
      ],
      "text/plain": [
       "            250.0      300.0     350.0     400.0     450.0\n",
       "0.9991  15.328985  10.383760  4.543043  2.194217  1.638586\n",
       "0.9992  11.188561   7.580735  2.873501  1.691053  1.544584\n",
       "0.9993   8.798071   5.377026  1.658631  0.500000  0.500000\n",
       "0.9994   5.368376   3.704655  1.338651  0.500000  0.500000\n",
       "0.9995   2.607061   1.562292  0.500000  0.500000  0.500000\n",
       "0.9996   1.198395   1.055269  0.500000  0.500000  0.500000\n",
       "0.9997   0.500000   0.500000  0.500000  0.500000  0.500000\n",
       "0.9998   0.500000   0.500000  0.500000  0.500000  0.500000\n",
       "0.9999   0.500000   0.500000  0.500000  0.500000  0.500000\n",
       "1.0000   0.500000   0.500000  0.500000  0.500000  0.500000"
      ]
     },
     "execution_count": 15,
     "metadata": {},
     "output_type": "execute_result"
    }
   ],
   "source": [
    "store[tag + '_bkg_SPRA'].loc[0.999:, :450]"
   ]
  },
  {
   "cell_type": "code",
   "execution_count": null,
   "id": "00beb434",
   "metadata": {},
   "outputs": [],
   "source": [
    "store[tag + '_sig_SPRA'].loc[0.998:]"
   ]
  },
  {
   "cell_type": "code",
   "execution_count": null,
   "id": "5a3666fb",
   "metadata": {},
   "outputs": [],
   "source": [
    "store[tag + '_bkg_SPRA'].loc[0.998:]"
   ]
  },
  {
   "cell_type": "code",
   "execution_count": null,
   "id": "e93925f8",
   "metadata": {},
   "outputs": [],
   "source": [
    "store[tag + '_signifTable'].loc[0.995:, 200:500]"
   ]
  },
  {
   "cell_type": "code",
   "execution_count": null,
   "id": "55ef6516",
   "metadata": {},
   "outputs": [],
   "source": [
    "print(store[tag + '_signifTable'].loc[0.999:, 200:500].to_markdown())"
   ]
  },
  {
   "cell_type": "code",
   "execution_count": null,
   "id": "9948e422",
   "metadata": {},
   "outputs": [],
   "source": [
    "iML  = -12\n",
    "iMET = +4\n",
    "sysUnc = 0.20\n",
    "\n",
    "print(f\"Regions for {sig_tag} (with {sysUnc*100:.0f}% bkg syst. unc.)\")\n",
    "print(\"Integrated luminosity = 100 fb-1\")\n",
    "print(\"Cross-section is scaled down to 6.83 fb\")\n",
    "print()\n",
    "print(f\"ML_cut:  {store[sig_tag + '_sig_SPRA_Table'].index[iML]:.5f}\")\n",
    "print(f\"MET_cut: {store[sig_tag + '_sig_SPRA_Table'].columns[iMET]:.0f}\")\n",
    "print()\n",
    "\n",
    "print(\"Signal\")\n",
    "print(\".\"*40)\n",
    "print(\"A: \", round(store[sig_tag + '_sig_SPRA_Table'].iloc[iML,iMET], 2))\n",
    "print(\"B: \", round(store[sig_tag + '_sig_SPRB_Table'].iloc[iML,iMET], 2))\n",
    "print(\"C: \", round(store[sig_tag + '_sig_SPRC_Table'].iloc[iML,iMET], 2))\n",
    "print(\"D: \", round(store[sig_tag + '_sig_SPRD_Table'].iloc[iML,iMET], 2))\n",
    "print()\n",
    "print(\"Background\")\n",
    "print(\".\"*40)\n",
    "print(\"A: \", round(store[sig_tag + '_bkg_SPRA_Table'].iloc[iML,iMET], 2))\n",
    "print(\"B: \", round(store[sig_tag + '_bkg_SPRB_Table'].iloc[iML,iMET], 2))\n",
    "print(\"C: \", round(store[sig_tag + '_bkg_SPRC_Table'].iloc[iML,iMET], 2))\n",
    "print(\"D: \", round(store[sig_tag + '_bkg_SPRD_Table'].iloc[iML,iMET], 2))\n",
    "print()\n",
    "print(\"ROOT RooStats AsimovSignificance\")\n",
    "print(\".\"*40)\n",
    "print(\"A: \", round(ROOT.RooStats.AsimovSignificance(store[sig_tag + '_sig_SPRA_Table'].iloc[iML,iMET],\n",
    "                                                    store[sig_tag + '_bkg_SPRA_Table'].iloc[iML,iMET],\n",
    "                                                    store[sig_tag + '_bkg_SPRA_Table'].iloc[iML,iMET] * sysUnc), 2))\n",
    "\n",
    "print(\"B: \", round(ROOT.RooStats.AsimovSignificance(store[sig_tag + '_sig_SPRB_Table'].iloc[iML,iMET],\n",
    "                                                    store[sig_tag + '_bkg_SPRB_Table'].iloc[iML,iMET],\n",
    "                                                    store[sig_tag + '_bkg_SPRB_Table'].iloc[iML,iMET] * sysUnc), 2))\n",
    "\n",
    "print(\"C: \", round(ROOT.RooStats.AsimovSignificance(store[sig_tag + '_sig_SPRC_Table'].iloc[iML,iMET],\n",
    "                                                    store[sig_tag + '_bkg_SPRC_Table'].iloc[iML,iMET],\n",
    "                                                    store[sig_tag + '_bkg_SPRC_Table'].iloc[iML,iMET] * sysUnc), 2))\n",
    "\n",
    "print(\"D: \", round(ROOT.RooStats.AsimovSignificance(store[sig_tag + '_sig_SPRD_Table'].iloc[iML,iMET],\n",
    "                                                    store[sig_tag + '_bkg_SPRD_Table'].iloc[iML,iMET],\n",
    "                                                    store[sig_tag + '_bkg_SPRD_Table'].iloc[iML,iMET] * sysUnc), 2))\n",
    "\n"
   ]
  },
  {
   "cell_type": "code",
   "execution_count": null,
   "id": "581daaa8",
   "metadata": {},
   "outputs": [],
   "source": [
    "store[tag + '_sigTable'].loc[0.9970:, 200:500]"
   ]
  },
  {
   "cell_type": "code",
   "execution_count": null,
   "id": "668ae7cc",
   "metadata": {},
   "outputs": [],
   "source": [
    "store[tag + '_bkgTable'].loc[0.9970:, 200:500]"
   ]
  },
  {
   "cell_type": "code",
   "execution_count": null,
   "id": "06f0f2da",
   "metadata": {},
   "outputs": [],
   "source": [
    "sig(146.269714, 0, 0)"
   ]
  },
  {
   "cell_type": "code",
   "execution_count": null,
   "id": "866c9aa7",
   "metadata": {},
   "outputs": [],
   "source": []
  },
  {
   "cell_type": "code",
   "execution_count": null,
   "id": "8d4ac6ba",
   "metadata": {},
   "outputs": [],
   "source": []
  },
  {
   "cell_type": "code",
   "execution_count": null,
   "id": "002fa312",
   "metadata": {},
   "outputs": [],
   "source": []
  },
  {
   "cell_type": "code",
   "execution_count": null,
   "id": "7374d303",
   "metadata": {},
   "outputs": [],
   "source": []
  },
  {
   "cell_type": "code",
   "execution_count": null,
   "id": "0b458747",
   "metadata": {},
   "outputs": [],
   "source": []
  },
  {
   "cell_type": "code",
   "execution_count": null,
   "id": "4371fa51",
   "metadata": {},
   "outputs": [],
   "source": []
  },
  {
   "cell_type": "code",
   "execution_count": null,
   "id": "b8b0d51a",
   "metadata": {},
   "outputs": [],
   "source": []
  },
  {
   "cell_type": "code",
   "execution_count": null,
   "id": "f1f0f17a",
   "metadata": {},
   "outputs": [],
   "source": []
  },
  {
   "cell_type": "code",
   "execution_count": null,
   "id": "c83a6968",
   "metadata": {},
   "outputs": [],
   "source": []
  },
  {
   "cell_type": "code",
   "execution_count": null,
   "id": "436d7398",
   "metadata": {},
   "outputs": [],
   "source": []
  },
  {
   "cell_type": "code",
   "execution_count": null,
   "id": "20529a10",
   "metadata": {},
   "outputs": [],
   "source": []
  },
  {
   "cell_type": "code",
   "execution_count": null,
   "id": "e65bff47",
   "metadata": {},
   "outputs": [],
   "source": []
  },
  {
   "cell_type": "code",
   "execution_count": null,
   "id": "57ea1467",
   "metadata": {},
   "outputs": [],
   "source": []
  },
  {
   "cell_type": "code",
   "execution_count": null,
   "id": "3b017780",
   "metadata": {},
   "outputs": [],
   "source": []
  },
  {
   "cell_type": "code",
   "execution_count": null,
   "id": "b1bb1728",
   "metadata": {},
   "outputs": [],
   "source": []
  },
  {
   "cell_type": "code",
   "execution_count": null,
   "id": "50e2ece1",
   "metadata": {},
   "outputs": [],
   "source": []
  },
  {
   "cell_type": "code",
   "execution_count": null,
   "id": "4737e795",
   "metadata": {},
   "outputs": [],
   "source": []
  },
  {
   "cell_type": "code",
   "execution_count": null,
   "id": "6d9b7f9d",
   "metadata": {},
   "outputs": [],
   "source": []
  },
  {
   "cell_type": "code",
   "execution_count": null,
   "id": "584b1338",
   "metadata": {},
   "outputs": [],
   "source": []
  },
  {
   "cell_type": "code",
   "execution_count": null,
   "id": "49df7b3b",
   "metadata": {},
   "outputs": [],
   "source": []
  },
  {
   "cell_type": "code",
   "execution_count": null,
   "id": "71f275cb",
   "metadata": {},
   "outputs": [],
   "source": []
  },
  {
   "cell_type": "code",
   "execution_count": null,
   "id": "00d101c3",
   "metadata": {},
   "outputs": [],
   "source": [
    "store[tag + '_bkgpredTable'].loc[3.5:4.0]"
   ]
  },
  {
   "cell_type": "code",
   "execution_count": null,
   "id": "c60895bf",
   "metadata": {},
   "outputs": [],
   "source": [
    "store[tag + '_sigTable'].loc[0.998:0.999]"
   ]
  },
  {
   "cell_type": "code",
   "execution_count": null,
   "id": "e222392f",
   "metadata": {},
   "outputs": [],
   "source": [
    "store[tag + '_signifTable'].loc[3.5:4.0]"
   ]
  },
  {
   "cell_type": "code",
   "execution_count": null,
   "id": "6bde8acd",
   "metadata": {},
   "outputs": [],
   "source": [
    "store[tag + '_signifpredTable'].loc[3.5:4.0]"
   ]
  },
  {
   "cell_type": "code",
   "execution_count": null,
   "id": "bed157cb",
   "metadata": {},
   "outputs": [],
   "source": [
    "store[tag + '_signifTable'].loc[0.998:0.999]"
   ]
  },
  {
   "cell_type": "code",
   "execution_count": null,
   "id": "3df0d3f5",
   "metadata": {},
   "outputs": [],
   "source": [
    "tmp_df = store[tag + '_signifTable'].to_numpy()\n",
    "tmp_df[np.isnan(tmp_df)] = 0.\n",
    "np.where(tmp_df == tmp_df.max())\n",
    "store[tag + '_signifTable'].iloc[50:150:10,5:6]"
   ]
  },
  {
   "cell_type": "code",
   "execution_count": null,
   "id": "30f245d0",
   "metadata": {},
   "outputs": [],
   "source": [
    "store[tag + '_signifTable'].index[116]"
   ]
  },
  {
   "cell_type": "code",
   "execution_count": null,
   "id": "80d6c6d2-549b-42f1-80a0-214dd2a6896b",
   "metadata": {},
   "outputs": [],
   "source": [
    "df = store[tag + '_signifpredTable']\n",
    "df_values = df.values\n",
    "np.max(df_values[~np.isnan(df_values)])"
   ]
  },
  {
   "cell_type": "code",
   "execution_count": null,
   "id": "e43a198e-81bc-465f-abcd-b9b8363b30f7",
   "metadata": {},
   "outputs": [],
   "source": [
    "from matplotlib.colors import LogNorm, Normalize"
   ]
  },
  {
   "cell_type": "code",
   "execution_count": null,
   "id": "31863175-5b4d-44b8-b9d9-75e2b3c7584f",
   "metadata": {},
   "outputs": [],
   "source": [
    "s = sns.heatmap(store[tag + '_sigTable'], norm=LogNorm(), cmap='Oranges_r')\n",
    "s.set(xlabel='MET_pt', ylabel='ML Score', title='Number of sig Events\\n'+tag);\n",
    "s.set_yticklabels([*map(lambda x: round(float(x.get_text()), 4), s.get_yticklabels())])\n",
    "s.invert_yaxis();"
   ]
  },
  {
   "cell_type": "code",
   "execution_count": null,
   "id": "c4ed7bec-ae64-4a46-a317-446daf20ef87",
   "metadata": {},
   "outputs": [],
   "source": [
    "s = sns.heatmap(store[tag + '_bkgTable'], norm=LogNorm(), cmap='Blues_r')\n",
    "s.set(xlabel='MET_pt', ylabel='ML Score', title='Number of bkg Events\\n'+\"all_bkg\");\n",
    "s.set_yticklabels([*map(lambda x: round(float(x.get_text()), 4), s.get_yticklabels())])\n",
    "s.invert_yaxis();"
   ]
  },
  {
   "cell_type": "code",
   "execution_count": null,
   "id": "212e82d7-c5a5-4bc5-b79a-78f4c7230cc5",
   "metadata": {},
   "outputs": [],
   "source": [
    "s = sns.heatmap(store[tag + '_signifTable'])\n",
    "s.set(xlabel='MET_pt', ylabel='ParTScore', title='STOP Discovery Significances\\n'+tag);\n",
    "s.set_yticklabels([*map(lambda x: round(float(x.get_text()), 4), s.get_yticklabels())])\n",
    "s.invert_yaxis();"
   ]
  },
  {
   "cell_type": "code",
   "execution_count": null,
   "id": "c75e4e9e-e93a-41b8-83b6-3f51487c0c06",
   "metadata": {},
   "outputs": [],
   "source": [
    "# store[tag + '_signifTable']"
   ]
  },
  {
   "cell_type": "code",
   "execution_count": null,
   "id": "aced45f8-d35e-4c71-87f5-9297177e59c2",
   "metadata": {},
   "outputs": [],
   "source": [
    "df = store[tag + '_signifTable']\n",
    "df_values = df.values\n",
    "np.max(df_values[~np.isnan(df_values)])"
   ]
  },
  {
   "cell_type": "code",
   "execution_count": null,
   "id": "8202dc16-7234-4b68-9d05-9a8bcfd59711",
   "metadata": {},
   "outputs": [],
   "source": [
    "df[~df.isna()]"
   ]
  },
  {
   "cell_type": "code",
   "execution_count": null,
   "id": "0564553a-d551-4938-a6c6-f7835c079408",
   "metadata": {},
   "outputs": [],
   "source": [
    "store[tag + '_sigTable'][0.992:]"
   ]
  },
  {
   "cell_type": "code",
   "execution_count": null,
   "id": "99a3151f-9d7b-439c-a86b-ed5efa586972",
   "metadata": {},
   "outputs": [],
   "source": [
    "store[tag + '_bkgTable'][0.992:]"
   ]
  },
  {
   "cell_type": "code",
   "execution_count": null,
   "id": "261e7e21-fb1a-46b2-823f-3ce706778b47",
   "metadata": {},
   "outputs": [],
   "source": [
    "store[tag + '_bkgpredTable'][0.992:]"
   ]
  },
  {
   "cell_type": "code",
   "execution_count": null,
   "id": "d6cf98d0-a739-418f-93a7-fdaf1ff3571d",
   "metadata": {},
   "outputs": [],
   "source": [
    "store[tag + '_bkgpredTable'][0.992:] / store[tag + '_bkgTable'][0.992:]"
   ]
  },
  {
   "cell_type": "code",
   "execution_count": null,
   "id": "6dcd7505",
   "metadata": {},
   "outputs": [],
   "source": [
    "store[tag + '_bkgpredUncTable'][0.992:]"
   ]
  },
  {
   "cell_type": "code",
   "execution_count": null,
   "id": "53f76b52",
   "metadata": {},
   "outputs": [],
   "source": [
    "store[tag + '_bkgUncTable'][0.992:]"
   ]
  },
  {
   "cell_type": "code",
   "execution_count": null,
   "id": "104e1021",
   "metadata": {},
   "outputs": [],
   "source": [
    "store[tag + '_bkgUncTable'].loc[0.998:,1000]"
   ]
  },
  {
   "cell_type": "code",
   "execution_count": null,
   "id": "348c6408",
   "metadata": {},
   "outputs": [],
   "source": [
    "store[tag + '_bkgTable'].loc[0.998:,1000]"
   ]
  },
  {
   "cell_type": "code",
   "execution_count": null,
   "id": "fd9608d1",
   "metadata": {},
   "outputs": [],
   "source": [
    "store[tag + '_bkgpredUncTable'].loc[0.998:,1000]"
   ]
  },
  {
   "cell_type": "code",
   "execution_count": null,
   "id": "758e49b4",
   "metadata": {},
   "outputs": [],
   "source": [
    "store[tag + '_bkgpredTable'].loc[0.998:,1000]"
   ]
  },
  {
   "cell_type": "code",
   "execution_count": null,
   "id": "2ae85e0c",
   "metadata": {},
   "outputs": [],
   "source": [
    "(store[tag + '_bkgpredTable'].loc[0.998:,1000]/ store[tag + '_bkgpredUncTable'].loc[0.998:,1000])**2"
   ]
  },
  {
   "cell_type": "code",
   "execution_count": null,
   "id": "daa9b6a0",
   "metadata": {},
   "outputs": [],
   "source": [
    "(0.00782 / 0.002401)**2"
   ]
  },
  {
   "cell_type": "code",
   "execution_count": null,
   "id": "212bf0ad",
   "metadata": {},
   "outputs": [],
   "source": [
    "(0.056571 / 0.056571)**2"
   ]
  },
  {
   "cell_type": "code",
   "execution_count": null,
   "id": "87e78e63",
   "metadata": {},
   "outputs": [],
   "source": [
    "ufloat(0.00782, 0.002401) / ufloat(0.056571, 0.056571)"
   ]
  },
  {
   "cell_type": "code",
   "execution_count": null,
   "id": "5f62598c",
   "metadata": {},
   "outputs": [],
   "source": [
    "import ROOT\n",
    "\n",
    "# --- 1. create one‑bin histograms with your Poisson counts ------------------\n",
    "h_num = ROOT.TH1D(\"num\",\"\",1,0,1)   # numerator: n1\n",
    "h_den = ROOT.TH1D(\"den\",\"\",1,0,1)   # denominator: n2\n",
    "h_num.SetBinContent(1, 10)          # e.g. n1 = 10\n",
    "h_den.SetBinContent(1, 1)          # e.g. n2 = 73   (change to your numbers)\n",
    "\n",
    "# --- 2. build the ratio of Poisson means with 68.3 % (1 σ) Clopper‑Pearson --\n",
    "g = ROOT.TGraphAsymmErrors()\n",
    "g.Divide(h_num, h_den, \"pois cp\")   # add \"v\" for verbose output if you like\n",
    "\n",
    "# --- 3. access the central value and asymmetric errors ----------------------\n",
    "ratio      = g.GetY()[0]            # τ̂  = n1 / n2\n",
    "err_low    = g.GetErrorYlow(0)      # downward error\n",
    "err_high   = g.GetErrorYhigh(0)     # upward   error\n",
    "print(f\"τ = {ratio:.6f}  +{err_high:.6f}/-{err_low:.6f}\")\n",
    "\n",
    "# optional: draw the graph (as a single point)\n",
    "# c = ROOT.TCanvas()\n",
    "# g.SetMarkerStyle(20)\n",
    "# g.Draw(\"AP\")\n",
    "# c.Update()\n"
   ]
  },
  {
   "cell_type": "code",
   "execution_count": null,
   "id": "312b9830",
   "metadata": {},
   "outputs": [],
   "source": [
    "g.Divide(h_num, h_den, \"pois fc\")                   # Feldman‑Cousins 68 % CL\n",
    "g.Divide(h_num, h_den, \"pois b(0.5,0.5) shortest\")  # Bayesian Jeffreys prior"
   ]
  },
  {
   "cell_type": "code",
   "execution_count": null,
   "id": "ad8a756b",
   "metadata": {},
   "outputs": [],
   "source": [
    "from uncertainties import ufloat\n",
    "\n",
    "def ratio_gauss(muA, sigA, muB, sigB):\n",
    "    \"\"\"\n",
    "    Return R = A/B with its propagated 1‑sigma error,\n",
    "    assuming A and B are independent Gaussians.\n",
    "    \"\"\"\n",
    "    a = ufloat(muA, sigA)\n",
    "    b = ufloat(muB, sigB)\n",
    "    return a / b\n",
    "\n",
    "# example -------------------------------------------------------------\n",
    "ra = ratio_gauss(0.00782,   0.002401,\n",
    "                 0.056571,  0.056571)\n",
    "print(ra)        # ==> 0.138233±0.144602"
   ]
  },
  {
   "cell_type": "code",
   "execution_count": null,
   "id": "8ed909a1",
   "metadata": {},
   "outputs": [],
   "source": [
    "from scipy import stats\n",
    "import numpy as np\n",
    "\n",
    "my_dict = {}\n",
    "my_val = 0.7\n",
    "\n",
    "mu1s_68 = []\n",
    "mu2s_68 = []\n",
    "\n",
    "mu1s_95 = []\n",
    "mu2s_95 = []\n",
    "\n",
    "trial1s = np.random.uniform(0, 300, 10000)\n",
    "trial2s = np.random.uniform(0, 300, 10000)\n",
    "\n",
    "for mu1, mu2 in zip(trial1s, trial2s):\n",
    "    rvs1 = stats.poisson.rvs(mu1, size=1000)\n",
    "    rvs2 = stats.poisson.rvs(mu2, size=1000)\n",
    "    rvs_ratio = rvs1 / rvs2\n",
    "    ci68 = np.percentile(rvs_ratio, [16, 84])\n",
    "    ci95 = np.percentile(rvs_ratio, [2.5, 97.5])\n",
    "    # if np.isnan(ci68[0]) or np.isnan(ci68[1]):\n",
    "    #     continue\n",
    "    if ci68[0] <= my_val <= ci68[1]:\n",
    "        # print(f\"my_val is inside the range of x: {x[0]:.2f} <= {my_val:.2f} <= {x[1]:.2f}\")\n",
    "        mu1s_68.append(mu1)\n",
    "        mu2s_68.append(mu2)\n",
    "    if ci95[0] <= my_val <= ci95[1]:\n",
    "        # print(f\"my_val is inside the range of x: {x[0]:.2f} <= {my_val:.2f} <= {x[1]:.2f}\")\n",
    "        mu1s_95.append(mu1)\n",
    "        mu2s_95.append(mu2)\n",
    "        \n",
    "        # my_dict[f'{mu1:.2f}_{mu2:.2f}'] = x"
   ]
  },
  {
   "cell_type": "code",
   "execution_count": null,
   "id": "8b8208d8",
   "metadata": {},
   "outputs": [],
   "source": [
    "rvs1 = stats.poisson.rvs(200, size=1000)\n",
    "rvs2 = stats.poisson.rvs(300, size=1000)\n",
    "rvs_ratio = rvs1 / rvs2\n",
    "x = np.percentile(rvs_ratio, [16, 84])\n",
    "x"
   ]
  },
  {
   "cell_type": "code",
   "execution_count": null,
   "id": "8b50b776",
   "metadata": {},
   "outputs": [],
   "source": [
    "plt.plot(mu1s_68, mu2s_68, 'o', markersize=1, color=\"blue\")\n",
    "plt.plot(trial1s, trial2s, 'o', markersize=1, color=\"red\", alpha=0.1)"
   ]
  },
  {
   "cell_type": "code",
   "execution_count": null,
   "id": "29388a76",
   "metadata": {},
   "outputs": [],
   "source": [
    "plt.plot(mu1s_95, mu2s_95, 'o', markersize=1, color=\"blue\")\n",
    "plt.plot(trial1s, trial2s, 'o', markersize=1, color=\"red\", alpha=0.1)"
   ]
  },
  {
   "cell_type": "code",
   "execution_count": null,
   "id": "89d9d91b",
   "metadata": {},
   "outputs": [],
   "source": [
    "l = [0, 2]\n",
    "my_val = np.nan\n",
    "\n",
    "if l[0] > my_val or l[-1] < my_val :\n",
    "    print(\"my_val is outside the range of l\")\n"
   ]
  },
  {
   "cell_type": "code",
   "execution_count": null,
   "id": "99258efa",
   "metadata": {},
   "outputs": [],
   "source": []
  },
  {
   "cell_type": "code",
   "execution_count": null,
   "id": "9c16cf54",
   "metadata": {},
   "outputs": [],
   "source": [
    "rvs1 = stats.poisson.rvs(20, size=1000)\n",
    "rvs2 = stats.poisson.rvs(10, size=1000)\n",
    "rvs_ratio = rvs1 / rvs2\n",
    "x = np.percentile(rvs_ratio, [16, 50, 84])\n",
    "x"
   ]
  },
  {
   "cell_type": "code",
   "execution_count": null,
   "id": "d0417f5f",
   "metadata": {},
   "outputs": [],
   "source": [
    "store[tag + '_closureUncTable'][0.992:]"
   ]
  },
  {
   "cell_type": "code",
   "execution_count": null,
   "id": "bad42f68-6d29-41e6-ad07-0a54ea2c168a",
   "metadata": {},
   "outputs": [],
   "source": [
    "store[tag + '_signifTable'][0.992:]"
   ]
  },
  {
   "cell_type": "code",
   "execution_count": null,
   "id": "f92b84d9-5fa0-43da-bd1a-2264f385a658",
   "metadata": {},
   "outputs": [],
   "source": [
    "s = sns.heatmap(store[tag + '_signifTable'][0.992:], annot=True)\n",
    "s.set(xlabel='MET_pt', ylabel='ParTScore', title='STOP Discovery Significances\\n'+tag);\n",
    "s.set_yticklabels([*map(lambda x: round(float(x.get_text()), 4), s.get_yticklabels())])\n",
    "s.invert_yaxis();\n",
    "plt."
   ]
  },
  {
   "cell_type": "code",
   "execution_count": null,
   "id": "b2280eec-9507-40bc-81e1-16a1315c44ac",
   "metadata": {},
   "outputs": [],
   "source": []
  },
  {
   "cell_type": "code",
   "execution_count": null,
   "id": "a8c5cbb3-18e3-4839-8ecb-d402034ca5b4",
   "metadata": {},
   "outputs": [],
   "source": [
    "# d.to_csv(sep = \"|\")\n",
    "tableName = tag + '_bkgTable'\n",
    "print(f\"Printing {tableName} \\n\")\n",
    "d = store[tableName]\n",
    "s = d.to_markdown()\n",
    "s = \"| ParTScore/MET_pt\" + s[6:]\n",
    "print(s)"
   ]
  },
  {
   "cell_type": "code",
   "execution_count": null,
   "id": "dbb372c2-2704-4a20-a99f-b4f4f10d98ac",
   "metadata": {},
   "outputs": [],
   "source": [
    "for key in bkg_histDict.keys():\n",
    "    print(key)"
   ]
  },
  {
   "cell_type": "code",
   "execution_count": null,
   "id": "22b78c52-137d-4aa1-b868-939319d73777",
   "metadata": {},
   "outputs": [],
   "source": [
    "c = ROOT.TCanvas(\"c1\",\"myCanvas1\",600,600)\n",
    "h = bkg_histDict['zjetstonunuht2500_2018']\n",
    "h.Draw(\"COLZ\")\n",
    "h.GetXaxis().SetRange(-1, 1000)\n",
    "h.GetYaxis().SetRange(-1, 1000)\n",
    "c.Draw()"
   ]
  },
  {
   "cell_type": "code",
   "execution_count": null,
   "id": "c3ca7993-1ad6-45ad-bb65-5c7043b5ed47",
   "metadata": {},
   "outputs": [],
   "source": []
  },
  {
   "cell_type": "code",
   "execution_count": null,
   "id": "4f4cffbb-18c3-46c5-9d82-991a5436967b",
   "metadata": {},
   "outputs": [],
   "source": []
  },
  {
   "cell_type": "code",
   "execution_count": null,
   "id": "2506c26d-ad24-4d6c-bb1e-a059e447b31e",
   "metadata": {},
   "outputs": [],
   "source": []
  },
  {
   "cell_type": "code",
   "execution_count": null,
   "id": "85eafb8f-1abe-4a73-8f0f-26956c8e7629",
   "metadata": {},
   "outputs": [],
   "source": []
  },
  {
   "cell_type": "code",
   "execution_count": null,
   "id": "d78f01e4-5439-45c8-a9f5-9704c23251f0",
   "metadata": {},
   "outputs": [],
   "source": [
    "sig(15.903, 4.079, 0.4513)"
   ]
  },
  {
   "cell_type": "code",
   "execution_count": null,
   "id": "0997a2ca-f357-48e0-af76-798f471307c6",
   "metadata": {},
   "outputs": [],
   "source": [
    "sig(5, 4.079, 0.4513)"
   ]
  },
  {
   "cell_type": "code",
   "execution_count": null,
   "id": "77d718d4-b808-4403-92cf-870c91e00060",
   "metadata": {},
   "outputs": [],
   "source": [
    "5 / 15.903"
   ]
  },
  {
   "cell_type": "code",
   "execution_count": null,
   "id": "3abfa035-2dbf-4c52-9b57-f45812cec73a",
   "metadata": {},
   "outputs": [],
   "source": []
  },
  {
   "cell_type": "code",
   "execution_count": null,
   "id": "287a402c-ee3d-446a-9ed6-2bea2b45a2bc",
   "metadata": {},
   "outputs": [],
   "source": [
    "store[tag + '_sigTable']"
   ]
  },
  {
   "cell_type": "code",
   "execution_count": null,
   "id": "5dedc980-1b7c-47ec-8df6-0ab0a2d67f0b",
   "metadata": {},
   "outputs": [],
   "source": [
    "tag = 'stop_1000_980_2'\n",
    "\n",
    "s = sns.heatmap(store[tag + '_bkgTable'], cmap=\"Blues_r\")\n",
    "s.set(xlabel='MET_pt', ylabel='LxySig', title='STOP Events\\n'+tag);\n",
    "s.invert_yaxis();"
   ]
  },
  {
   "cell_type": "code",
   "execution_count": null,
   "id": "c25b045d-3435-43c2-89ac-f78afa47a6e7",
   "metadata": {},
   "outputs": [],
   "source": [
    "# d.to_csv(sep = \"|\")\n",
    "tag = 'stop_1000_980_2'\n",
    "d = store[tag + '_bkgTable']\n",
    "s = d.to_markdown()\n",
    "s = \"| LxySig/MET_pt \" + s[6:]"
   ]
  },
  {
   "cell_type": "code",
   "execution_count": null,
   "id": "fa0c00bf-9c03-400c-96c5-ec81e0c1a42f",
   "metadata": {},
   "outputs": [],
   "source": [
    "print(f\"{s}\")"
   ]
  },
  {
   "cell_type": "code",
   "execution_count": null,
   "id": "fa41fa84-f996-44dd-8312-f3ffbc60681e",
   "metadata": {},
   "outputs": [],
   "source": [
    "# hist.GetYaxis().GetBinUpEdge(hist.GetYaxis().GetNbins())"
   ]
  },
  {
   "cell_type": "code",
   "execution_count": null,
   "id": "4e6c3efc-9ecc-455e-9422-ea689e86ee9f",
   "metadata": {},
   "outputs": [],
   "source": [
    "store['stop_1000_988_200_sigTable']"
   ]
  },
  {
   "cell_type": "code",
   "execution_count": null,
   "id": "1c515834-8dd1-4967-81a8-bb0132a51e81",
   "metadata": {},
   "outputs": [],
   "source": [
    "store['stop_1000_988_200_bkgTable']"
   ]
  },
  {
   "cell_type": "code",
   "execution_count": null,
   "id": "d753aa5e-42d2-4bb7-9517-1f48b35b3901",
   "metadata": {},
   "outputs": [],
   "source": [
    "store['stop_1000_988_200_signifTable']"
   ]
  },
  {
   "cell_type": "code",
   "execution_count": null,
   "id": "f4417186-a460-40ae-9b35-c8a13e8691df",
   "metadata": {},
   "outputs": [],
   "source": []
  },
  {
   "cell_type": "code",
   "execution_count": null,
   "id": "bf09a469-1f43-4ae8-9f2f-23cb485e411c",
   "metadata": {},
   "outputs": [],
   "source": []
  },
  {
   "cell_type": "code",
   "execution_count": null,
   "id": "b603a612-62b5-4cb6-8ff5-4b4ae722d6ab",
   "metadata": {},
   "outputs": [],
   "source": [
    "def sig(s,b,b_err):\n",
    "  return np.sqrt(2*((s+b)*np.log(((s+b)*(b+b_err*b_err))/(b*b+(s+b)*b_err*b_err)) - \n",
    "                    (b*b/(b_err*b_err))*np.log(1+(b_err*b_err*s)/(b*(b+b_err*b_err)))))"
   ]
  },
  {
   "cell_type": "code",
   "execution_count": null,
   "id": "f33f3608-c505-40fc-9ba5-a55239ae2a43",
   "metadata": {},
   "outputs": [],
   "source": [
    "sig(0.2, 0.5, 1e-154)"
   ]
  },
  {
   "cell_type": "code",
   "execution_count": null,
   "id": "608dbdd0-27bb-4f62-9fc4-3ac94d1e769e",
   "metadata": {},
   "outputs": [],
   "source": [
    "0.2 / np.sqrt(0.5)"
   ]
  },
  {
   "cell_type": "code",
   "execution_count": null,
   "id": "1d625a29-1a48-477e-bba1-4eb9fcfd0f17",
   "metadata": {},
   "outputs": [],
   "source": []
  },
  {
   "cell_type": "code",
   "execution_count": null,
   "id": "5658f0bd-5718-486b-bebd-1396c254a646",
   "metadata": {},
   "outputs": [],
   "source": []
  }
 ],
 "metadata": {
  "kernelspec": {
   "display_name": "coffea_torch2",
   "language": "python",
   "name": "python3"
  },
  "language_info": {
   "codemirror_mode": {
    "name": "ipython",
    "version": 3
   },
   "file_extension": ".py",
   "mimetype": "text/x-python",
   "name": "python",
   "nbconvert_exporter": "python",
   "pygments_lexer": "ipython3",
   "version": "3.11.9"
  }
 },
 "nbformat": 4,
 "nbformat_minor": 5
}
