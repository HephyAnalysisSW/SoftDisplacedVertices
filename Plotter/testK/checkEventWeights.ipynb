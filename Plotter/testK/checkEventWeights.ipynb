{
 "cells": [
  {
   "cell_type": "code",
   "execution_count": 1,
   "id": "1a5ed843-0061-434c-a7b3-b14452384a22",
   "metadata": {},
   "outputs": [],
   "source": [
    "import json"
   ]
  },
  {
   "cell_type": "code",
   "execution_count": 5,
   "id": "24532003",
   "metadata": {},
   "outputs": [
    {
     "data": {
      "text/plain": [
       "'/users/alikaan.gueven/AOD_to_nanoAOD/CMSSW_13_0_16/src/SoftDisplacedVertices/Plotter/testK'"
      ]
     },
     "execution_count": 5,
     "metadata": {},
     "output_type": "execute_result"
    }
   ],
   "source": [
    "pwd"
   ]
  },
  {
   "cell_type": "code",
   "execution_count": 8,
   "id": "4b6ec8ff-321f-4fca-b18c-2e4e59a29ede",
   "metadata": {},
   "outputs": [
    {
     "name": "stdout",
     "output_type": "stream",
     "text": [
      "Event weight for wjetstolnu4jets_2023 = 9.77e-05\n",
      "Event weight for zto2nu4jetsht0100_2023 = 8.72e-05\n",
      "Event weight for zto2nu4jetsht0200_2023 = 0.000108\n",
      "Event weight for zto2nu4jetsht0400_2023 = 0.00101\n",
      "Event weight for zto2nu4jetsht0800_2023 = 0.0041\n",
      "Event weight for zto2nu4jetsht1500_2023 = 0.00395\n",
      "Event weight for zto2nu4jetsht2500_2023 = 0.00428\n",
      "Event weight for qcd4jetsht0040_2023 = 0.000305\n",
      "Event weight for qcd4jetsht0070_2023 = 0.000201\n",
      "Event weight for qcd4jetsht0100_2023 = 0.000163\n",
      "Event weight for qcd4jetsht0200_2023 = 0.000127\n",
      "Event weight for qcd4jetsht0400_2023 = 0.000102\n",
      "Event weight for qcd4jetsht0600_2023 = 0.0001\n",
      "Event weight for qcd4jetsht0800_2023 = 8.75e-05\n",
      "Event weight for qcd4jetsht1000_2023 = 9.84e-05\n",
      "Event weight for qcd4jetsht1200_2023 = 0.000103\n",
      "Event weight for qcd4jetsht1500_2023 = 7.84e-05\n",
      "Event weight for qcd4jetsht2000_2023 = 7.43e-05\n",
      "Event weight for ttto4q_2023 = 0.00104\n",
      "Event weight for ttto2l2nu_2023 = 0.000626\n",
      "Event weight for tttolnu2q_2023 = 0.00816\n",
      "Event weight for wjetstolnu4jets_bpix_2023 = 0.000193\n",
      "Event weight for zto2nu4jetsht0100_bpix_2023 = 0.000312\n",
      "Event weight for zto2nu4jetsht0200_bpix_2023 = 0.00023\n",
      "Event weight for zto2nu4jetsht0400_bpix_2023 = 0.0021\n",
      "Event weight for zto2nu4jetsht0800_bpix_2023 = 0.00782\n",
      "Event weight for zto2nu4jetsht1500_bpix_2023 = 0.00795\n",
      "Event weight for zto2nu4jetsht2500_bpix_2023 = 0.00735\n",
      "Event weight for qcd4jetsht0040_bpix_2023 = 0.000803\n",
      "Event weight for qcd4jetsht0070_bpix_2023 = 0.000471\n",
      "Event weight for qcd4jetsht0100_bpix_2023 = 0.000313\n",
      "Event weight for qcd4jetsht0200_bpix_2023 = 0.00028\n",
      "Event weight for qcd4jetsht0400_bpix_2023 = 0.000183\n",
      "Event weight for qcd4jetsht0600_bpix_2023 = 0.000183\n",
      "Event weight for qcd4jetsht0800_bpix_2023 = 0.000185\n",
      "Event weight for qcd4jetsht1000_bpix_2023 = 0.000174\n",
      "Event weight for qcd4jetsht1200_bpix_2023 = 0.000164\n",
      "Event weight for qcd4jetsht1500_bpix_2023 = 0.000181\n",
      "Event weight for qcd4jetsht2000_bpix_2023 = 0.000153\n",
      "Event weight for ttto4q_bpix_2023 = 0.00171\n",
      "Event weight for tttolnu2q_bpix_2023 = 0.00121\n",
      "Event weight for ttto2l2nu_bpix_2023 = 0.0192\n"
     ]
    }
   ],
   "source": [
    "int_lumi = 41.48 * 1e3\n",
    "\n",
    "with open(\"../../Samples/json/MC_Run3Summer23_20250409.json\") as f:\n",
    "    d = json.load(f)\n",
    "    for tag, sumW in d['CustomMiniAOD']['totalsumWeights'].items():\n",
    "        num_events_exp = d['xs'][tag] * int_lumi\n",
    "        print(f'Event weight for {tag} = {num_events_exp / sumW:.3g}')"
   ]
  },
  {
   "cell_type": "code",
   "execution_count": null,
   "id": "8702bf34-0895-4569-a386-8c6279549f7d",
   "metadata": {},
   "outputs": [],
   "source": []
  }
 ],
 "metadata": {
  "kernelspec": {
   "display_name": "Python 3",
   "language": "python",
   "name": "python3"
  },
  "language_info": {
   "codemirror_mode": {
    "name": "ipython",
    "version": 3
   },
   "file_extension": ".py",
   "mimetype": "text/x-python",
   "name": "python",
   "nbconvert_exporter": "python",
   "pygments_lexer": "ipython3",
   "version": "3.11.9"
  }
 },
 "nbformat": 4,
 "nbformat_minor": 5
}
