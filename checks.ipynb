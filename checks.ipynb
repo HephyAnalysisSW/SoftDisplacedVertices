{
 "cells": [
  {
   "cell_type": "code",
   "execution_count": 15,
   "id": "5313eb2f-3c6f-4b95-ac8b-08aad4728fb4",
   "metadata": {},
   "outputs": [],
   "source": [
    "import yaml\n",
    "with open('/users/alikaan.gueven/analyseNanoAOD/database_meta/ZJetsToNuNu_HT-2500ToInf.yaml', 'r') as meta:\n",
    "        meta_dict = yaml.safe_load(meta)"
   ]
  },
  {
   "cell_type": "code",
   "execution_count": 16,
   "id": "3ebcbaf7-36a4-4466-904b-79b4520770fd",
   "metadata": {},
   "outputs": [
    {
     "name": "stdout",
     "output_type": "stream",
     "text": [
      "268224.0\n"
     ]
    }
   ],
   "source": [
    "summ = 0\n",
    "for key, subkey in meta_dict.items():\n",
    "    summ += subkey['totalsumWeights']\n",
    "print(summ)"
   ]
  },
  {
   "cell_type": "code",
   "execution_count": null,
   "id": "1bd000d0-893a-4669-b0a9-6208ed8916a7",
   "metadata": {},
   "outputs": [],
   "source": []
  },
  {
   "cell_type": "code",
   "execution_count": null,
   "id": "39d706d9-e17e-4faf-bb01-7342875ab8f7",
   "metadata": {},
   "outputs": [],
   "source": []
  },
  {
   "cell_type": "code",
   "execution_count": null,
   "id": "04ec5b21-e671-4cc3-8086-0514cd8c9af2",
   "metadata": {},
   "outputs": [],
   "source": []
  },
  {
   "cell_type": "code",
   "execution_count": null,
   "id": "a3b0eab1-f319-4e2b-9a18-924dbff8a8c8",
   "metadata": {},
   "outputs": [],
   "source": []
  },
  {
   "cell_type": "code",
   "execution_count": null,
   "id": "b2d79417-edc9-42c6-b50f-cf5d38161eff",
   "metadata": {},
   "outputs": [],
   "source": []
  },
  {
   "cell_type": "code",
   "execution_count": 8,
   "id": "173b83fe-2f51-4a0e-bb7c-ef9248953c12",
   "metadata": {},
   "outputs": [
    {
     "data": {
      "text/plain": [
       "[]"
      ]
     },
     "execution_count": 8,
     "metadata": {},
     "output_type": "execute_result"
    }
   ],
   "source": [
    "import glob\n",
    "prefix = '/eos/vbc/experiments/cms/store/user/liko'\n",
    "directory = f'{prefix}/ZJetsToNuNu_HT-100To200_TuneCP5_13TeV-madgraphMLM-pythia8/ZJetToNuNu_HT-100To200_MC_UL18_CustomNanoAODv1'\n",
    "\n",
    "flist = glob.glob(directory+\"/**/*.root\", recursive=True)\n",
    "flist"
   ]
  },
  {
   "cell_type": "code",
   "execution_count": 19,
   "id": "ac79a45e-ed3b-429e-a5dc-9f7754b2d3bb",
   "metadata": {},
   "outputs": [
    {
     "data": {
      "text/plain": [
       "'/users/alikaan.gueven/samplesNewSeedNoDuplicates/customNANOAODSIM/STOP/600_580_2'"
      ]
     },
     "execution_count": 19,
     "metadata": {},
     "output_type": "execute_result"
    }
   ],
   "source": [
    "import os\n",
    "os.path.abspath('/users/alikaan.gueven/samplesNewSeedNoDuplicates/customNANOAODSIM/STOP/600_580_2/')"
   ]
  },
  {
   "cell_type": "code",
   "execution_count": null,
   "id": "e1268898-f728-46cc-b660-e00b1feb0898",
   "metadata": {},
   "outputs": [],
   "source": []
  }
 ],
 "metadata": {
  "kernelspec": {
   "display_name": "coffea_env2",
   "language": "python",
   "name": "python3"
  },
  "language_info": {
   "codemirror_mode": {
    "name": "ipython",
    "version": 3
   },
   "file_extension": ".py",
   "mimetype": "text/x-python",
   "name": "python",
   "nbconvert_exporter": "python",
   "pygments_lexer": "ipython3",
   "version": "3.11.6"
  }
 },
 "nbformat": 4,
 "nbformat_minor": 5
}
