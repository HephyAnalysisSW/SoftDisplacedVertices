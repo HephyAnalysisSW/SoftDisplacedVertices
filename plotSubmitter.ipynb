{
 "cells": [
  {
   "cell_type": "code",
   "execution_count": null,
   "id": "21fcf972-ff01-4326-bf73-afb4076630f9",
   "metadata": {},
   "outputs": [],
   "source": [
    "import subprocess\n",
    "\n",
    "# customMINIAOD generation\n",
    "CONFIGFILE = 'customMiniAODv2_cfg.py'\n",
    "NTHREADS   = 4\n",
    "INPUTFILE  = 'file:' + current_file_path\n",
    "OUTPUTFILE = INPUTFILE.replace('AODSIM', 'customMINIAODSIM')\n",
    "COMMAND = 'cmsRun -n ' + str(NTHREADS) + ' ' + CONFIGFILE + ' inputFiles=' + INPUTFILE + ' outputFile=' + OUTPUTFILE + ' maxEvents=-1'\n",
    "print(COMMAND)\n",
    "print('-'*80)\n",
    "\n",
    "\n",
    "logfile = OUTPUTFILE.replace('.root', '.log').replace('file:', '')\n",
    "f = open(logfile,'w')\n",
    "loglist.append(f)\n",
    "\n",
    "subprocess.Popen(COMMAND.split(' '), stderr=f)"
   ]
  },
  {
   "cell_type": "code",
   "execution_count": null,
   "id": "0bb06d43-80d2-4c9d-9577-4e5776fc6d11",
   "metadata": {},
   "outputs": [],
   "source": [
    "EVCUTS   = {GenJet_pt[0]==200}\n",
    "SVCUTS   = \n",
    "TRCUTS   = \n",
    "SSAMPLES = \n",
    "BSAMPLES = \n",
    "PLOTNAME = \n",
    "OUTLOG   = \n",
    "NTHREADS = 4\n"
   ]
  },
  {
   "cell_type": "code",
   "execution_count": null,
   "id": "4d96721f-f6d6-4c97-93c5-7badc8babe09",
   "metadata": {},
   "outputs": [],
   "source": []
  },
  {
   "cell_type": "code",
   "execution_count": 13,
   "id": "ce25e14a-3075-409b-9635-86829a22c1c9",
   "metadata": {},
   "outputs": [
    {
     "name": "stdout",
     "output_type": "stream",
     "text": [
      "RawMET_pt>=2.0\n"
     ]
    }
   ],
   "source": [
    "operators = '><='\n",
    "cutdict_ev = {'RawMET' : 'RawMET_pt'}\n",
    "mystr = 'RawMET>=2.0'\n",
    "splitted = None\n",
    "for operator in operators:\n",
    "    if operator in mystr:\n",
    "        splitted = mystr.split(operator, 1)\n",
    "        splitted[0] = cutdict_ev[splitted[0]]\n",
    "        splitted[1] = operator + splitted[-1]\n",
    "        break\n",
    "print(''.join(splitted))"
   ]
  },
  {
   "cell_type": "code",
   "execution_count": null,
   "id": "c22d4b83-01fc-46c9-8e88-0b88c73b90d6",
   "metadata": {},
   "outputs": [],
   "source": []
  },
  {
   "cell_type": "code",
   "execution_count": 20,
   "id": "5e55964e-4454-41d5-9e1a-0d4b4fcd7dc8",
   "metadata": {},
   "outputs": [],
   "source": [
    "from itertools import product\n",
    "\n",
    "def grid_parameters(parameters):\n",
    "    for params in product(*parameters.values()):\n",
    "        yield dict(zip(parameters.keys(), params))"
   ]
  },
  {
   "cell_type": "code",
   "execution_count": 46,
   "id": "4c7cc764-8e0a-46b4-97a4-5b76d3347132",
   "metadata": {},
   "outputs": [
    {
     "name": "stdout",
     "output_type": "stream",
     "text": [
      "RawMET>100&&SDVTrack_dxy>1&&SDVTrack_dz<1\n",
      "RawMET>100&&SDVTrack_dxy>1&&SDVTrack_dz<2\n",
      "RawMET>100&&SDVTrack_dxy>1&&SDVTrack_dz<4\n",
      "RawMET>100&&SDVTrack_dxy>1&&SDVTrack_dz<8\n",
      "RawMET>100&&SDVTrack_dxy>2&&SDVTrack_dz<1\n",
      "RawMET>100&&SDVTrack_dxy>2&&SDVTrack_dz<2\n",
      "RawMET>100&&SDVTrack_dxy>2&&SDVTrack_dz<4\n",
      "RawMET>100&&SDVTrack_dxy>2&&SDVTrack_dz<8\n",
      "RawMET>100&&SDVTrack_dxy>4&&SDVTrack_dz<1\n",
      "RawMET>100&&SDVTrack_dxy>4&&SDVTrack_dz<2\n",
      "RawMET>100&&SDVTrack_dxy>4&&SDVTrack_dz<4\n",
      "RawMET>100&&SDVTrack_dxy>4&&SDVTrack_dz<8\n",
      "RawMET>100&&SDVTrack_dxy>8&&SDVTrack_dz<1\n",
      "RawMET>100&&SDVTrack_dxy>8&&SDVTrack_dz<2\n",
      "RawMET>100&&SDVTrack_dxy>8&&SDVTrack_dz<4\n",
      "RawMET>100&&SDVTrack_dxy>8&&SDVTrack_dz<8\n",
      "RawMET>200&&SDVTrack_dxy>1&&SDVTrack_dz<1\n",
      "RawMET>200&&SDVTrack_dxy>1&&SDVTrack_dz<2\n",
      "RawMET>200&&SDVTrack_dxy>1&&SDVTrack_dz<4\n",
      "RawMET>200&&SDVTrack_dxy>1&&SDVTrack_dz<8\n",
      "RawMET>200&&SDVTrack_dxy>2&&SDVTrack_dz<1\n",
      "RawMET>200&&SDVTrack_dxy>2&&SDVTrack_dz<2\n",
      "RawMET>200&&SDVTrack_dxy>2&&SDVTrack_dz<4\n",
      "RawMET>200&&SDVTrack_dxy>2&&SDVTrack_dz<8\n",
      "RawMET>200&&SDVTrack_dxy>4&&SDVTrack_dz<1\n",
      "RawMET>200&&SDVTrack_dxy>4&&SDVTrack_dz<2\n",
      "RawMET>200&&SDVTrack_dxy>4&&SDVTrack_dz<4\n",
      "RawMET>200&&SDVTrack_dxy>4&&SDVTrack_dz<8\n",
      "RawMET>200&&SDVTrack_dxy>8&&SDVTrack_dz<1\n",
      "RawMET>200&&SDVTrack_dxy>8&&SDVTrack_dz<2\n",
      "RawMET>200&&SDVTrack_dxy>8&&SDVTrack_dz<4\n",
      "RawMET>200&&SDVTrack_dxy>8&&SDVTrack_dz<8\n",
      "RawMET>400&&SDVTrack_dxy>1&&SDVTrack_dz<1\n",
      "RawMET>400&&SDVTrack_dxy>1&&SDVTrack_dz<2\n",
      "RawMET>400&&SDVTrack_dxy>1&&SDVTrack_dz<4\n",
      "RawMET>400&&SDVTrack_dxy>1&&SDVTrack_dz<8\n",
      "RawMET>400&&SDVTrack_dxy>2&&SDVTrack_dz<1\n",
      "RawMET>400&&SDVTrack_dxy>2&&SDVTrack_dz<2\n",
      "RawMET>400&&SDVTrack_dxy>2&&SDVTrack_dz<4\n",
      "RawMET>400&&SDVTrack_dxy>2&&SDVTrack_dz<8\n",
      "RawMET>400&&SDVTrack_dxy>4&&SDVTrack_dz<1\n",
      "RawMET>400&&SDVTrack_dxy>4&&SDVTrack_dz<2\n",
      "RawMET>400&&SDVTrack_dxy>4&&SDVTrack_dz<4\n",
      "RawMET>400&&SDVTrack_dxy>4&&SDVTrack_dz<8\n",
      "RawMET>400&&SDVTrack_dxy>8&&SDVTrack_dz<1\n",
      "RawMET>400&&SDVTrack_dxy>8&&SDVTrack_dz<2\n",
      "RawMET>400&&SDVTrack_dxy>8&&SDVTrack_dz<4\n",
      "RawMET>400&&SDVTrack_dxy>8&&SDVTrack_dz<8\n",
      "RawMET>800&&SDVTrack_dxy>1&&SDVTrack_dz<1\n",
      "RawMET>800&&SDVTrack_dxy>1&&SDVTrack_dz<2\n",
      "RawMET>800&&SDVTrack_dxy>1&&SDVTrack_dz<4\n",
      "RawMET>800&&SDVTrack_dxy>1&&SDVTrack_dz<8\n",
      "RawMET>800&&SDVTrack_dxy>2&&SDVTrack_dz<1\n",
      "RawMET>800&&SDVTrack_dxy>2&&SDVTrack_dz<2\n",
      "RawMET>800&&SDVTrack_dxy>2&&SDVTrack_dz<4\n",
      "RawMET>800&&SDVTrack_dxy>2&&SDVTrack_dz<8\n",
      "RawMET>800&&SDVTrack_dxy>4&&SDVTrack_dz<1\n",
      "RawMET>800&&SDVTrack_dxy>4&&SDVTrack_dz<2\n",
      "RawMET>800&&SDVTrack_dxy>4&&SDVTrack_dz<4\n",
      "RawMET>800&&SDVTrack_dxy>4&&SDVTrack_dz<8\n",
      "RawMET>800&&SDVTrack_dxy>8&&SDVTrack_dz<1\n",
      "RawMET>800&&SDVTrack_dxy>8&&SDVTrack_dz<2\n",
      "RawMET>800&&SDVTrack_dxy>8&&SDVTrack_dz<4\n",
      "RawMET>800&&SDVTrack_dxy>8&&SDVTrack_dz<8\n"
     ]
    }
   ],
   "source": [
    "cutdict_ev['evRawMET'] = ('RawMET_pt',     '>', 200.)\n",
    "cutdict_ev['evGenMET'] = ('GenMET_pt',     '>', 200.)\n",
    "cutdict_ev['evGenJet'] = ('GenJet_pt[0]]', '>', 100.)\n",
    "\n",
    "cutdict_sv['svDPHIRM'] = ('acos(cos(SDVSecVtx_L_phi-GenMET_phi))', '<', 1.5)\n",
    "cutdict_sv['svRALPHA'] = ('SDVSecVtx_pAngle', '>', 0.2)\n",
    "cutdict_sv['svLXYSIG'] = ('SDVSecVtx_LxySig', '>', 20)\n",
    "cutdict_sv['svNGTR'] =   ('SDVSecVtx_newgoodtr', '>=', 2)\n",
    "cutdict_sv[\"svDPHIJ\"] =  ('acos(cos(SDVSecVtx_L_phi-GenJet_phi[0]))]', '>', 1)\n",
    "cutdict_sv[\"svNDOF\"] =   ('SDVSecVtx_ndof>1', '', )\n",
    "\n",
    "cutdict_tr['trDXYSIG'] = ('(abs(SDVTrack_dxy)/SDVTrack_dxyError)>4', '', )\n",
    "cutdict_tr['trCHI2'] =   ('SDVTrack_normalizedChi2 < 5', '', )\n",
    "cutdict_tr['trDZ'] =     ('abs(SDVTrack_dz)<4.', '', )\n",
    "cutdict_tr['trNVH'] =    ('SDVTrack_numberOfValidHits>13', '', )\n",
    "cutdict_tr['trRSPT'] =   ('(SDVTrack_ptError/SDVTrack_pt)<0.015', '', )\n",
    "cutdict_tr[\"trDPHIJ\"] =  ('acos(cos(SDVTrack_phi-GenJet_phi[0]))>1', '', )\n",
    "cutdict_tr[\"trDPHIM\"] =  ('acos(cos(SDVTrack_phi-GenMET_phi))<1.5', '', )\n",
    "\n",
    "\n",
    "\n",
    "\n",
    "\n",
    "\n",
    "\n",
    "\n",
    "\n",
    "grid_cuts = dict()\n",
    "grid_cuts['RawMET>'] = (100, 200, 400, 800)\n",
    "grid_cuts['SDVSecVtx_LxySig>'] = (10, 12, 14, 18)\n",
    "grid_cuts['SDVTrack_dz<'] = (1, 2, 4, 8)\n",
    "\n",
    "for grid in grid_parameters(grid_cuts):\n",
    "    # print(grid.items())\n",
    "    grid_as_str = (''.join((key,str(value))) for key, value in grid.items())\n",
    "    print('&&'.join(grid_as_str))"
   ]
  },
  {
   "cell_type": "code",
   "execution_count": null,
   "id": "7783b4ad-705f-4276-9a5b-e5c7167458a6",
   "metadata": {},
   "outputs": [],
   "source": []
  },
  {
   "cell_type": "code",
   "execution_count": null,
   "id": "af2d16a3-be0f-4c27-bf1e-bfdc1a9e2f07",
   "metadata": {},
   "outputs": [],
   "source": []
  }
 ],
 "metadata": {
  "kernelspec": {
   "display_name": "Python 3 (ipykernel)",
   "language": "python",
   "name": "python3"
  },
  "language_info": {
   "codemirror_mode": {
    "name": "ipython",
    "version": 3
   },
   "file_extension": ".py",
   "mimetype": "text/x-python",
   "name": "python",
   "nbconvert_exporter": "python",
   "pygments_lexer": "ipython3",
   "version": "3.11.6"
  }
 },
 "nbformat": 4,
 "nbformat_minor": 5
}
